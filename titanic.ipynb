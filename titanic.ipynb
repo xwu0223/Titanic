{
 "cells": [
  {
   "cell_type": "code",
   "execution_count": 1,
   "id": "ec516cff",
   "metadata": {
    "_cell_guid": "b1076dfc-b9ad-4769-8c92-a6c4dae69d19",
    "_uuid": "8f2839f25d086af736a60e9eeb907d3b93b6e0e5",
    "execution": {
     "iopub.execute_input": "2021-09-03T18:47:39.858694Z",
     "iopub.status.busy": "2021-09-03T18:47:39.857846Z",
     "iopub.status.idle": "2021-09-03T18:47:39.861834Z",
     "shell.execute_reply": "2021-09-03T18:47:39.862460Z",
     "shell.execute_reply.started": "2021-09-03T18:03:34.297851Z"
    },
    "papermill": {
     "duration": 0.142409,
     "end_time": "2021-09-03T18:47:39.862798",
     "exception": false,
     "start_time": "2021-09-03T18:47:39.720389",
     "status": "completed"
    },
    "tags": []
   },
   "outputs": [
    {
     "name": "stdout",
     "output_type": "stream",
     "text": [
      "../input/titanic/train.csv\n",
      "../input/titanic/test.csv\n",
      "../input/titanic/gender_submission.csv\n"
     ]
    }
   ],
   "source": [
    "# This Python 3 environment comes with many helpful analytics libraries installed\n",
    "# It is defined by the kaggle/python Docker image: https://github.com/kaggle/docker-python\n",
    "# For example, here's several helpful packages to load\n",
    "\n",
    "import numpy as np # linear algebra\n",
    "import pandas as pd # data processing, CSV file I/O (e.g. pd.read_csv)\n",
    "\n",
    "# Input data files are available in the read-only \"../input/\" directory\n",
    "# For example, running this (by clicking run or pressing Shift+Enter) will list all files under the input directory\n",
    "\n",
    "import os\n",
    "for dirname, _, filenames in os.walk('../input/titanic'):\n",
    "    for filename in filenames:\n",
    "        print(os.path.join(dirname, filename))\n",
    "\n",
    "# You can write up to 20GB to the current directory (/kaggle/working/) that gets preserved as output when you create a version using \"Save & Run All\" \n",
    "# You can also write temporary files to /kaggle/temp/, but they won't be saved outside of the current session"
   ]
  },
  {
   "cell_type": "code",
   "execution_count": 2,
   "id": "1493f0be",
   "metadata": {
    "execution": {
     "iopub.execute_input": "2021-09-03T18:47:40.008231Z",
     "iopub.status.busy": "2021-09-03T18:47:40.007562Z",
     "iopub.status.idle": "2021-09-03T18:47:40.034464Z",
     "shell.execute_reply": "2021-09-03T18:47:40.033718Z",
     "shell.execute_reply.started": "2021-09-03T18:03:34.313987Z"
    },
    "papermill": {
     "duration": 0.11082,
     "end_time": "2021-09-03T18:47:40.034597",
     "exception": false,
     "start_time": "2021-09-03T18:47:39.923777",
     "status": "completed"
    },
    "tags": []
   },
   "outputs": [],
   "source": [
    "# read csv file\n",
    "train = pd.read_csv('../input/titanic/train.csv')\n",
    "test = pd.read_csv('../input/titanic/test.csv')"
   ]
  },
  {
   "cell_type": "code",
   "execution_count": 3,
   "id": "5f8d669f",
   "metadata": {
    "execution": {
     "iopub.execute_input": "2021-09-03T18:47:40.165463Z",
     "iopub.status.busy": "2021-09-03T18:47:40.164005Z",
     "iopub.status.idle": "2021-09-03T18:47:40.166194Z",
     "shell.execute_reply": "2021-09-03T18:47:40.164725Z",
     "shell.execute_reply.started": "2021-09-03T18:03:34.412084Z"
    },
    "papermill": {
     "duration": 0.080115,
     "end_time": "2021-09-03T18:47:40.166352",
     "exception": false,
     "start_time": "2021-09-03T18:47:40.086237",
     "status": "completed"
    },
    "tags": []
   },
   "outputs": [],
   "source": [
    "# Variable Notes\n",
    "# pclass: A proxy for socio-economic status (SES)\n",
    "# 1st = Upper\n",
    "# 2nd = Middle\n",
    "# 3rd = Lower\n",
    "\n",
    "# age: Age is fractional if less than 1. If the age is estimated, is it in the form of xx.5\n",
    "\n",
    "# sibsp: The dataset defines family relations in this way...\n",
    "# Sibling = brother, sister, stepbrother, stepsister\n",
    "# Spouse = husband, wife (mistresses and fiancés were ignored)\n",
    "\n",
    "# parch: The dataset defines family relations in this way...\n",
    "# Parent = mother, father\n",
    "# Child = daughter, son, stepdaughter, stepson\n",
    "# Some children travelled only with a nanny, therefore parch=0 for them. "
   ]
  },
  {
   "cell_type": "code",
   "execution_count": 4,
   "id": "ff0eac4f",
   "metadata": {
    "execution": {
     "iopub.execute_input": "2021-09-03T18:47:40.306980Z",
     "iopub.status.busy": "2021-09-03T18:47:40.306261Z",
     "iopub.status.idle": "2021-09-03T18:47:40.315418Z",
     "shell.execute_reply": "2021-09-03T18:47:40.314943Z",
     "shell.execute_reply.started": "2021-09-03T18:03:34.420853Z"
    },
    "papermill": {
     "duration": 0.076429,
     "end_time": "2021-09-03T18:47:40.315529",
     "exception": false,
     "start_time": "2021-09-03T18:47:40.239100",
     "status": "completed"
    },
    "tags": []
   },
   "outputs": [],
   "source": [
    "train['train_test'] = 1\n",
    "test['train_test'] = 0\n",
    "test['Survived'] = np.NaN\n",
    "data = pd.concat([train,test])"
   ]
  },
  {
   "cell_type": "code",
   "execution_count": 5,
   "id": "af1754df",
   "metadata": {
    "execution": {
     "iopub.execute_input": "2021-09-03T18:47:40.454931Z",
     "iopub.status.busy": "2021-09-03T18:47:40.454161Z",
     "iopub.status.idle": "2021-09-03T18:47:40.485703Z",
     "shell.execute_reply": "2021-09-03T18:47:40.486174Z",
     "shell.execute_reply.started": "2021-09-03T18:03:34.921558Z"
    },
    "papermill": {
     "duration": 0.120229,
     "end_time": "2021-09-03T18:47:40.486329",
     "exception": false,
     "start_time": "2021-09-03T18:47:40.366100",
     "status": "completed"
    },
    "tags": []
   },
   "outputs": [
    {
     "data": {
      "text/html": [
       "<div>\n",
       "<style scoped>\n",
       "    .dataframe tbody tr th:only-of-type {\n",
       "        vertical-align: middle;\n",
       "    }\n",
       "\n",
       "    .dataframe tbody tr th {\n",
       "        vertical-align: top;\n",
       "    }\n",
       "\n",
       "    .dataframe thead th {\n",
       "        text-align: right;\n",
       "    }\n",
       "</style>\n",
       "<table border=\"1\" class=\"dataframe\">\n",
       "  <thead>\n",
       "    <tr style=\"text-align: right;\">\n",
       "      <th></th>\n",
       "      <th>PassengerId</th>\n",
       "      <th>Survived</th>\n",
       "      <th>Pclass</th>\n",
       "      <th>Name</th>\n",
       "      <th>Sex</th>\n",
       "      <th>Age</th>\n",
       "      <th>SibSp</th>\n",
       "      <th>Parch</th>\n",
       "      <th>Ticket</th>\n",
       "      <th>Fare</th>\n",
       "      <th>Cabin</th>\n",
       "      <th>Embarked</th>\n",
       "      <th>train_test</th>\n",
       "    </tr>\n",
       "  </thead>\n",
       "  <tbody>\n",
       "    <tr>\n",
       "      <th>0</th>\n",
       "      <td>1</td>\n",
       "      <td>0.0</td>\n",
       "      <td>3</td>\n",
       "      <td>Braund, Mr. Owen Harris</td>\n",
       "      <td>male</td>\n",
       "      <td>22.0</td>\n",
       "      <td>1</td>\n",
       "      <td>0</td>\n",
       "      <td>A/5 21171</td>\n",
       "      <td>7.2500</td>\n",
       "      <td>NaN</td>\n",
       "      <td>S</td>\n",
       "      <td>1</td>\n",
       "    </tr>\n",
       "    <tr>\n",
       "      <th>1</th>\n",
       "      <td>2</td>\n",
       "      <td>1.0</td>\n",
       "      <td>1</td>\n",
       "      <td>Cumings, Mrs. John Bradley (Florence Briggs Th...</td>\n",
       "      <td>female</td>\n",
       "      <td>38.0</td>\n",
       "      <td>1</td>\n",
       "      <td>0</td>\n",
       "      <td>PC 17599</td>\n",
       "      <td>71.2833</td>\n",
       "      <td>C85</td>\n",
       "      <td>C</td>\n",
       "      <td>1</td>\n",
       "    </tr>\n",
       "    <tr>\n",
       "      <th>2</th>\n",
       "      <td>3</td>\n",
       "      <td>1.0</td>\n",
       "      <td>3</td>\n",
       "      <td>Heikkinen, Miss. Laina</td>\n",
       "      <td>female</td>\n",
       "      <td>26.0</td>\n",
       "      <td>0</td>\n",
       "      <td>0</td>\n",
       "      <td>STON/O2. 3101282</td>\n",
       "      <td>7.9250</td>\n",
       "      <td>NaN</td>\n",
       "      <td>S</td>\n",
       "      <td>1</td>\n",
       "    </tr>\n",
       "    <tr>\n",
       "      <th>3</th>\n",
       "      <td>4</td>\n",
       "      <td>1.0</td>\n",
       "      <td>1</td>\n",
       "      <td>Futrelle, Mrs. Jacques Heath (Lily May Peel)</td>\n",
       "      <td>female</td>\n",
       "      <td>35.0</td>\n",
       "      <td>1</td>\n",
       "      <td>0</td>\n",
       "      <td>113803</td>\n",
       "      <td>53.1000</td>\n",
       "      <td>C123</td>\n",
       "      <td>S</td>\n",
       "      <td>1</td>\n",
       "    </tr>\n",
       "    <tr>\n",
       "      <th>4</th>\n",
       "      <td>5</td>\n",
       "      <td>0.0</td>\n",
       "      <td>3</td>\n",
       "      <td>Allen, Mr. William Henry</td>\n",
       "      <td>male</td>\n",
       "      <td>35.0</td>\n",
       "      <td>0</td>\n",
       "      <td>0</td>\n",
       "      <td>373450</td>\n",
       "      <td>8.0500</td>\n",
       "      <td>NaN</td>\n",
       "      <td>S</td>\n",
       "      <td>1</td>\n",
       "    </tr>\n",
       "  </tbody>\n",
       "</table>\n",
       "</div>"
      ],
      "text/plain": [
       "   PassengerId  Survived  Pclass  \\\n",
       "0            1       0.0       3   \n",
       "1            2       1.0       1   \n",
       "2            3       1.0       3   \n",
       "3            4       1.0       1   \n",
       "4            5       0.0       3   \n",
       "\n",
       "                                                Name     Sex   Age  SibSp  \\\n",
       "0                            Braund, Mr. Owen Harris    male  22.0      1   \n",
       "1  Cumings, Mrs. John Bradley (Florence Briggs Th...  female  38.0      1   \n",
       "2                             Heikkinen, Miss. Laina  female  26.0      0   \n",
       "3       Futrelle, Mrs. Jacques Heath (Lily May Peel)  female  35.0      1   \n",
       "4                           Allen, Mr. William Henry    male  35.0      0   \n",
       "\n",
       "   Parch            Ticket     Fare Cabin Embarked  train_test  \n",
       "0      0         A/5 21171   7.2500   NaN        S           1  \n",
       "1      0          PC 17599  71.2833   C85        C           1  \n",
       "2      0  STON/O2. 3101282   7.9250   NaN        S           1  \n",
       "3      0            113803  53.1000  C123        S           1  \n",
       "4      0            373450   8.0500   NaN        S           1  "
      ]
     },
     "execution_count": 5,
     "metadata": {},
     "output_type": "execute_result"
    }
   ],
   "source": [
    "data.head()"
   ]
  },
  {
   "cell_type": "code",
   "execution_count": 6,
   "id": "49283108",
   "metadata": {
    "execution": {
     "iopub.execute_input": "2021-09-03T18:47:40.609183Z",
     "iopub.status.busy": "2021-09-03T18:47:40.608527Z",
     "iopub.status.idle": "2021-09-03T18:47:40.612967Z",
     "shell.execute_reply": "2021-09-03T18:47:40.612511Z",
     "shell.execute_reply.started": "2021-09-03T18:03:34.947012Z"
    },
    "papermill": {
     "duration": 0.07265,
     "end_time": "2021-09-03T18:47:40.613093",
     "exception": false,
     "start_time": "2021-09-03T18:47:40.540443",
     "status": "completed"
    },
    "tags": []
   },
   "outputs": [
    {
     "name": "stdout",
     "output_type": "stream",
     "text": [
      "<class 'pandas.core.frame.DataFrame'>\n",
      "RangeIndex: 891 entries, 0 to 890\n",
      "Data columns (total 13 columns):\n",
      " #   Column       Non-Null Count  Dtype  \n",
      "---  ------       --------------  -----  \n",
      " 0   PassengerId  891 non-null    int64  \n",
      " 1   Survived     891 non-null    int64  \n",
      " 2   Pclass       891 non-null    int64  \n",
      " 3   Name         891 non-null    object \n",
      " 4   Sex          891 non-null    object \n",
      " 5   Age          714 non-null    float64\n",
      " 6   SibSp        891 non-null    int64  \n",
      " 7   Parch        891 non-null    int64  \n",
      " 8   Ticket       891 non-null    object \n",
      " 9   Fare         891 non-null    float64\n",
      " 10  Cabin        204 non-null    object \n",
      " 11  Embarked     889 non-null    object \n",
      " 12  train_test   891 non-null    int64  \n",
      "dtypes: float64(2), int64(6), object(5)\n",
      "memory usage: 90.6+ KB\n"
     ]
    }
   ],
   "source": [
    "train.info()"
   ]
  },
  {
   "cell_type": "code",
   "execution_count": 7,
   "id": "262deb57",
   "metadata": {
    "execution": {
     "iopub.execute_input": "2021-09-03T18:47:40.725526Z",
     "iopub.status.busy": "2021-09-03T18:47:40.724728Z",
     "iopub.status.idle": "2021-09-03T18:47:40.753895Z",
     "shell.execute_reply": "2021-09-03T18:47:40.754377Z",
     "shell.execute_reply.started": "2021-09-03T18:03:34.967963Z"
    },
    "papermill": {
     "duration": 0.087336,
     "end_time": "2021-09-03T18:47:40.754534",
     "exception": false,
     "start_time": "2021-09-03T18:47:40.667198",
     "status": "completed"
    },
    "tags": []
   },
   "outputs": [
    {
     "data": {
      "text/html": [
       "<div>\n",
       "<style scoped>\n",
       "    .dataframe tbody tr th:only-of-type {\n",
       "        vertical-align: middle;\n",
       "    }\n",
       "\n",
       "    .dataframe tbody tr th {\n",
       "        vertical-align: top;\n",
       "    }\n",
       "\n",
       "    .dataframe thead th {\n",
       "        text-align: right;\n",
       "    }\n",
       "</style>\n",
       "<table border=\"1\" class=\"dataframe\">\n",
       "  <thead>\n",
       "    <tr style=\"text-align: right;\">\n",
       "      <th></th>\n",
       "      <th>PassengerId</th>\n",
       "      <th>Survived</th>\n",
       "      <th>Pclass</th>\n",
       "      <th>Age</th>\n",
       "      <th>SibSp</th>\n",
       "      <th>Parch</th>\n",
       "      <th>Fare</th>\n",
       "      <th>train_test</th>\n",
       "    </tr>\n",
       "  </thead>\n",
       "  <tbody>\n",
       "    <tr>\n",
       "      <th>count</th>\n",
       "      <td>891.000000</td>\n",
       "      <td>891.000000</td>\n",
       "      <td>891.000000</td>\n",
       "      <td>714.000000</td>\n",
       "      <td>891.000000</td>\n",
       "      <td>891.000000</td>\n",
       "      <td>891.000000</td>\n",
       "      <td>891.0</td>\n",
       "    </tr>\n",
       "    <tr>\n",
       "      <th>mean</th>\n",
       "      <td>446.000000</td>\n",
       "      <td>0.383838</td>\n",
       "      <td>2.308642</td>\n",
       "      <td>29.699118</td>\n",
       "      <td>0.523008</td>\n",
       "      <td>0.381594</td>\n",
       "      <td>32.204208</td>\n",
       "      <td>1.0</td>\n",
       "    </tr>\n",
       "    <tr>\n",
       "      <th>std</th>\n",
       "      <td>257.353842</td>\n",
       "      <td>0.486592</td>\n",
       "      <td>0.836071</td>\n",
       "      <td>14.526497</td>\n",
       "      <td>1.102743</td>\n",
       "      <td>0.806057</td>\n",
       "      <td>49.693429</td>\n",
       "      <td>0.0</td>\n",
       "    </tr>\n",
       "    <tr>\n",
       "      <th>min</th>\n",
       "      <td>1.000000</td>\n",
       "      <td>0.000000</td>\n",
       "      <td>1.000000</td>\n",
       "      <td>0.420000</td>\n",
       "      <td>0.000000</td>\n",
       "      <td>0.000000</td>\n",
       "      <td>0.000000</td>\n",
       "      <td>1.0</td>\n",
       "    </tr>\n",
       "    <tr>\n",
       "      <th>25%</th>\n",
       "      <td>223.500000</td>\n",
       "      <td>0.000000</td>\n",
       "      <td>2.000000</td>\n",
       "      <td>20.125000</td>\n",
       "      <td>0.000000</td>\n",
       "      <td>0.000000</td>\n",
       "      <td>7.910400</td>\n",
       "      <td>1.0</td>\n",
       "    </tr>\n",
       "    <tr>\n",
       "      <th>50%</th>\n",
       "      <td>446.000000</td>\n",
       "      <td>0.000000</td>\n",
       "      <td>3.000000</td>\n",
       "      <td>28.000000</td>\n",
       "      <td>0.000000</td>\n",
       "      <td>0.000000</td>\n",
       "      <td>14.454200</td>\n",
       "      <td>1.0</td>\n",
       "    </tr>\n",
       "    <tr>\n",
       "      <th>75%</th>\n",
       "      <td>668.500000</td>\n",
       "      <td>1.000000</td>\n",
       "      <td>3.000000</td>\n",
       "      <td>38.000000</td>\n",
       "      <td>1.000000</td>\n",
       "      <td>0.000000</td>\n",
       "      <td>31.000000</td>\n",
       "      <td>1.0</td>\n",
       "    </tr>\n",
       "    <tr>\n",
       "      <th>max</th>\n",
       "      <td>891.000000</td>\n",
       "      <td>1.000000</td>\n",
       "      <td>3.000000</td>\n",
       "      <td>80.000000</td>\n",
       "      <td>8.000000</td>\n",
       "      <td>6.000000</td>\n",
       "      <td>512.329200</td>\n",
       "      <td>1.0</td>\n",
       "    </tr>\n",
       "  </tbody>\n",
       "</table>\n",
       "</div>"
      ],
      "text/plain": [
       "       PassengerId    Survived      Pclass         Age       SibSp  \\\n",
       "count   891.000000  891.000000  891.000000  714.000000  891.000000   \n",
       "mean    446.000000    0.383838    2.308642   29.699118    0.523008   \n",
       "std     257.353842    0.486592    0.836071   14.526497    1.102743   \n",
       "min       1.000000    0.000000    1.000000    0.420000    0.000000   \n",
       "25%     223.500000    0.000000    2.000000   20.125000    0.000000   \n",
       "50%     446.000000    0.000000    3.000000   28.000000    0.000000   \n",
       "75%     668.500000    1.000000    3.000000   38.000000    1.000000   \n",
       "max     891.000000    1.000000    3.000000   80.000000    8.000000   \n",
       "\n",
       "            Parch        Fare  train_test  \n",
       "count  891.000000  891.000000       891.0  \n",
       "mean     0.381594   32.204208         1.0  \n",
       "std      0.806057   49.693429         0.0  \n",
       "min      0.000000    0.000000         1.0  \n",
       "25%      0.000000    7.910400         1.0  \n",
       "50%      0.000000   14.454200         1.0  \n",
       "75%      0.000000   31.000000         1.0  \n",
       "max      6.000000  512.329200         1.0  "
      ]
     },
     "execution_count": 7,
     "metadata": {},
     "output_type": "execute_result"
    }
   ],
   "source": [
    "train.describe()"
   ]
  },
  {
   "cell_type": "code",
   "execution_count": 8,
   "id": "44e8d14c",
   "metadata": {
    "execution": {
     "iopub.execute_input": "2021-09-03T18:47:40.863955Z",
     "iopub.status.busy": "2021-09-03T18:47:40.863442Z",
     "iopub.status.idle": "2021-09-03T18:47:40.869277Z",
     "shell.execute_reply": "2021-09-03T18:47:40.868804Z",
     "shell.execute_reply.started": "2021-09-03T18:03:35.002936Z"
    },
    "papermill": {
     "duration": 0.06151,
     "end_time": "2021-09-03T18:47:40.869382",
     "exception": false,
     "start_time": "2021-09-03T18:47:40.807872",
     "status": "completed"
    },
    "tags": []
   },
   "outputs": [
    {
     "data": {
      "text/plain": [
       "Index(['PassengerId', 'Survived', 'Pclass', 'Name', 'Sex', 'Age', 'SibSp',\n",
       "       'Parch', 'Ticket', 'Fare', 'Cabin', 'Embarked', 'train_test'],\n",
       "      dtype='object')"
      ]
     },
     "execution_count": 8,
     "metadata": {},
     "output_type": "execute_result"
    }
   ],
   "source": [
    "train.columns"
   ]
  },
  {
   "cell_type": "code",
   "execution_count": 9,
   "id": "6b18472c",
   "metadata": {
    "execution": {
     "iopub.execute_input": "2021-09-03T18:47:40.982778Z",
     "iopub.status.busy": "2021-09-03T18:47:40.982115Z",
     "iopub.status.idle": "2021-09-03T18:47:40.985437Z",
     "shell.execute_reply": "2021-09-03T18:47:40.984981Z",
     "shell.execute_reply.started": "2021-09-03T18:03:35.011934Z"
    },
    "papermill": {
     "duration": 0.061504,
     "end_time": "2021-09-03T18:47:40.985546",
     "exception": false,
     "start_time": "2021-09-03T18:47:40.924042",
     "status": "completed"
    },
    "tags": []
   },
   "outputs": [],
   "source": [
    "train_num = train[['Age','SibSp','Parch','Fare']]\n",
    "train_cat = train[['Survived','Pclass','Sex','Ticket','Cabin','Embarked']]"
   ]
  },
  {
   "cell_type": "code",
   "execution_count": 10,
   "id": "2cdd9045",
   "metadata": {
    "execution": {
     "iopub.execute_input": "2021-09-03T18:47:41.108597Z",
     "iopub.status.busy": "2021-09-03T18:47:41.107886Z",
     "iopub.status.idle": "2021-09-03T18:47:41.661300Z",
     "shell.execute_reply": "2021-09-03T18:47:41.659960Z",
     "shell.execute_reply.started": "2021-09-03T18:03:35.020945Z"
    },
    "papermill": {
     "duration": 0.62324,
     "end_time": "2021-09-03T18:47:41.661427",
     "exception": false,
     "start_time": "2021-09-03T18:47:41.038187",
     "status": "completed"
    },
    "tags": []
   },
   "outputs": [
    {
     "data": {
      "image/png": "[encoded data removed]",
      "text/plain": [
       "<Figure size 432x288 with 1 Axes>"
      ]
     },
     "metadata": {
      "needs_background": "light"
     },
     "output_type": "display_data"
    },
    {
     "data": {
      "image/png": "[encoded data removed]",
      "text/plain": [
       "<Figure size 432x288 with 1 Axes>"
      ]
     },
     "metadata": {
      "needs_background": "light"
     },
     "output_type": "display_data"
    },
    {
     "data": {
      "image/png": "[encoded data removed]",
      "text/plain": [
       "<Figure size 432x288 with 1 Axes>"
      ]
     },
     "metadata": {
      "needs_background": "light"
     },
     "output_type": "display_data"
    },
    {
     "data": {
      "image/png": "[encoded data removed]",
      "text/plain": [
       "<Figure size 432x288 with 1 Axes>"
      ]
     },
     "metadata": {
      "needs_background": "light"
     },
     "output_type": "display_data"
    }
   ],
   "source": [
    "import matplotlib.pyplot as plt\n",
    "for i in train_num.columns:\n",
    "    plt.hist(train_num[i])\n",
    "    plt.title(i)\n",
    "    plt.show()"
   ]
  },
  {
   "cell_type": "code",
   "execution_count": 11,
   "id": "ac63e818",
   "metadata": {
    "execution": {
     "iopub.execute_input": "2021-09-03T18:47:41.775578Z",
     "iopub.status.busy": "2021-09-03T18:47:41.774891Z",
     "iopub.status.idle": "2021-09-03T18:47:42.861026Z",
     "shell.execute_reply": "2021-09-03T18:47:42.861467Z",
     "shell.execute_reply.started": "2021-09-03T18:03:35.564429Z"
    },
    "papermill": {
     "duration": 1.145256,
     "end_time": "2021-09-03T18:47:42.861639",
     "exception": false,
     "start_time": "2021-09-03T18:47:41.716383",
     "status": "completed"
    },
    "tags": []
   },
   "outputs": [
    {
     "name": "stdout",
     "output_type": "stream",
     "text": [
      "            Age     SibSp     Parch      Fare\n",
      "Age    1.000000 -0.308247 -0.189119  0.096067\n",
      "SibSp -0.308247  1.000000  0.414838  0.159651\n",
      "Parch -0.189119  0.414838  1.000000  0.216225\n",
      "Fare   0.096067  0.159651  0.216225  1.000000\n"
     ]
    },
    {
     "data": {
      "text/plain": [
       "<AxesSubplot:>"
      ]
     },
     "execution_count": 11,
     "metadata": {},
     "output_type": "execute_result"
    },
    {
     "data": {
      "image/png": "[encoded data removed]",
      "text/plain": [
       "<Figure size 432x288 with 2 Axes>"
      ]
     },
     "metadata": {
      "needs_background": "light"
     },
     "output_type": "display_data"
    }
   ],
   "source": [
    "import seaborn as sns\n",
    "print(train_num.corr())\n",
    "sns.heatmap(train_num.corr())"
   ]
  },
  {
   "cell_type": "code",
   "execution_count": 12,
   "id": "336b9e45",
   "metadata": {
    "execution": {
     "iopub.execute_input": "2021-09-03T18:47:42.987361Z",
     "iopub.status.busy": "2021-09-03T18:47:42.986574Z",
     "iopub.status.idle": "2021-09-03T18:47:43.011996Z",
     "shell.execute_reply": "2021-09-03T18:47:43.012494Z",
     "shell.execute_reply.started": "2021-09-03T18:03:36.718372Z"
    },
    "papermill": {
     "duration": 0.093226,
     "end_time": "2021-09-03T18:47:43.012647",
     "exception": false,
     "start_time": "2021-09-03T18:47:42.919421",
     "status": "completed"
    },
    "tags": []
   },
   "outputs": [
    {
     "data": {
      "text/html": [
       "<div>\n",
       "<style scoped>\n",
       "    .dataframe tbody tr th:only-of-type {\n",
       "        vertical-align: middle;\n",
       "    }\n",
       "\n",
       "    .dataframe tbody tr th {\n",
       "        vertical-align: top;\n",
       "    }\n",
       "\n",
       "    .dataframe thead th {\n",
       "        text-align: right;\n",
       "    }\n",
       "</style>\n",
       "<table border=\"1\" class=\"dataframe\">\n",
       "  <thead>\n",
       "    <tr style=\"text-align: right;\">\n",
       "      <th></th>\n",
       "      <th>Age</th>\n",
       "      <th>Fare</th>\n",
       "      <th>Parch</th>\n",
       "      <th>SibSp</th>\n",
       "    </tr>\n",
       "    <tr>\n",
       "      <th>Survived</th>\n",
       "      <th></th>\n",
       "      <th></th>\n",
       "      <th></th>\n",
       "      <th></th>\n",
       "    </tr>\n",
       "  </thead>\n",
       "  <tbody>\n",
       "    <tr>\n",
       "      <th>0</th>\n",
       "      <td>30.626179</td>\n",
       "      <td>22.117887</td>\n",
       "      <td>0.329690</td>\n",
       "      <td>0.553734</td>\n",
       "    </tr>\n",
       "    <tr>\n",
       "      <th>1</th>\n",
       "      <td>28.343690</td>\n",
       "      <td>48.395408</td>\n",
       "      <td>0.464912</td>\n",
       "      <td>0.473684</td>\n",
       "    </tr>\n",
       "  </tbody>\n",
       "</table>\n",
       "</div>"
      ],
      "text/plain": [
       "                Age       Fare     Parch     SibSp\n",
       "Survived                                          \n",
       "0         30.626179  22.117887  0.329690  0.553734\n",
       "1         28.343690  48.395408  0.464912  0.473684"
      ]
     },
     "execution_count": 12,
     "metadata": {},
     "output_type": "execute_result"
    }
   ],
   "source": [
    "pd.pivot_table(train,index='Survived',values = ['Age','SibSp','Parch','Fare'])"
   ]
  },
  {
   "cell_type": "code",
   "execution_count": 13,
   "id": "045535d7",
   "metadata": {
    "execution": {
     "iopub.execute_input": "2021-09-03T18:47:43.133404Z",
     "iopub.status.busy": "2021-09-03T18:47:43.132706Z",
     "iopub.status.idle": "2021-09-03T18:47:43.135696Z",
     "shell.execute_reply": "2021-09-03T18:47:43.136069Z",
     "shell.execute_reply.started": "2021-09-03T18:03:36.757636Z"
    },
    "papermill": {
     "duration": 0.064581,
     "end_time": "2021-09-03T18:47:43.136241",
     "exception": false,
     "start_time": "2021-09-03T18:47:43.071660",
     "status": "completed"
    },
    "tags": []
   },
   "outputs": [
    {
     "data": {
      "text/plain": [
       "0    549\n",
       "1    342\n",
       "Name: Survived, dtype: int64"
      ]
     },
     "execution_count": 13,
     "metadata": {},
     "output_type": "execute_result"
    }
   ],
   "source": [
    "train['Survived'].value_counts()"
   ]
  },
  {
   "cell_type": "code",
   "execution_count": 14,
   "id": "d408429d",
   "metadata": {
    "execution": {
     "iopub.execute_input": "2021-09-03T18:47:43.254547Z",
     "iopub.status.busy": "2021-09-03T18:47:43.253863Z",
     "iopub.status.idle": "2021-09-03T18:47:43.256772Z",
     "shell.execute_reply": "2021-09-03T18:47:43.257275Z",
     "shell.execute_reply.started": "2021-09-03T18:03:36.766545Z"
    },
    "papermill": {
     "duration": 0.065215,
     "end_time": "2021-09-03T18:47:43.257400",
     "exception": false,
     "start_time": "2021-09-03T18:47:43.192185",
     "status": "completed"
    },
    "tags": []
   },
   "outputs": [
    {
     "data": {
      "text/plain": [
       "3    491\n",
       "1    216\n",
       "2    184\n",
       "Name: Pclass, dtype: int64"
      ]
     },
     "execution_count": 14,
     "metadata": {},
     "output_type": "execute_result"
    }
   ],
   "source": [
    "train['Pclass'].value_counts()"
   ]
  },
  {
   "cell_type": "code",
   "execution_count": 15,
   "id": "67677619",
   "metadata": {
    "execution": {
     "iopub.execute_input": "2021-09-03T18:47:43.375869Z",
     "iopub.status.busy": "2021-09-03T18:47:43.375177Z",
     "iopub.status.idle": "2021-09-03T18:47:43.378128Z",
     "shell.execute_reply": "2021-09-03T18:47:43.378525Z",
     "shell.execute_reply.started": "2021-09-03T18:03:36.777228Z"
    },
    "papermill": {
     "duration": 0.064924,
     "end_time": "2021-09-03T18:47:43.378645",
     "exception": false,
     "start_time": "2021-09-03T18:47:43.313721",
     "status": "completed"
    },
    "tags": []
   },
   "outputs": [
    {
     "data": {
      "text/plain": [
       "male      577\n",
       "female    314\n",
       "Name: Sex, dtype: int64"
      ]
     },
     "execution_count": 15,
     "metadata": {},
     "output_type": "execute_result"
    }
   ],
   "source": [
    "train['Sex'].value_counts()"
   ]
  },
  {
   "cell_type": "code",
   "execution_count": 16,
   "id": "998440b2",
   "metadata": {
    "execution": {
     "iopub.execute_input": "2021-09-03T18:47:43.495833Z",
     "iopub.status.busy": "2021-09-03T18:47:43.495090Z",
     "iopub.status.idle": "2021-09-03T18:47:43.501262Z",
     "shell.execute_reply": "2021-09-03T18:47:43.501703Z",
     "shell.execute_reply.started": "2021-09-03T18:03:36.787270Z"
    },
    "papermill": {
     "duration": 0.067201,
     "end_time": "2021-09-03T18:47:43.501820",
     "exception": false,
     "start_time": "2021-09-03T18:47:43.434619",
     "status": "completed"
    },
    "tags": []
   },
   "outputs": [
    {
     "data": {
      "text/plain": [
       "CA. 2343    7\n",
       "347082      7\n",
       "1601        7\n",
       "3101295     6\n",
       "347088      6\n",
       "           ..\n",
       "7553        1\n",
       "7552        1\n",
       "350034      1\n",
       "349252      1\n",
       "236852      1\n",
       "Name: Ticket, Length: 681, dtype: int64"
      ]
     },
     "execution_count": 16,
     "metadata": {},
     "output_type": "execute_result"
    }
   ],
   "source": [
    "train['Ticket'].value_counts()"
   ]
  },
  {
   "cell_type": "code",
   "execution_count": 17,
   "id": "3ccd48e9",
   "metadata": {
    "execution": {
     "iopub.execute_input": "2021-09-03T18:47:43.624478Z",
     "iopub.status.busy": "2021-09-03T18:47:43.623721Z",
     "iopub.status.idle": "2021-09-03T18:47:43.626773Z",
     "shell.execute_reply": "2021-09-03T18:47:43.627202Z",
     "shell.execute_reply.started": "2021-09-03T18:03:36.798572Z"
    },
    "papermill": {
     "duration": 0.067961,
     "end_time": "2021-09-03T18:47:43.627333",
     "exception": false,
     "start_time": "2021-09-03T18:47:43.559372",
     "status": "completed"
    },
    "tags": []
   },
   "outputs": [
    {
     "data": {
      "text/plain": [
       "G6             4\n",
       "C23 C25 C27    4\n",
       "B96 B98        4\n",
       "C22 C26        3\n",
       "F33            3\n",
       "              ..\n",
       "C128           1\n",
       "A23            1\n",
       "E36            1\n",
       "B37            1\n",
       "A32            1\n",
       "Name: Cabin, Length: 147, dtype: int64"
      ]
     },
     "execution_count": 17,
     "metadata": {},
     "output_type": "execute_result"
    }
   ],
   "source": [
    "train['Cabin'].value_counts()"
   ]
  },
  {
   "cell_type": "code",
   "execution_count": 18,
   "id": "f22d97b6",
   "metadata": {
    "execution": {
     "iopub.execute_input": "2021-09-03T18:47:43.748924Z",
     "iopub.status.busy": "2021-09-03T18:47:43.748295Z",
     "iopub.status.idle": "2021-09-03T18:47:43.751430Z",
     "shell.execute_reply": "2021-09-03T18:47:43.751815Z",
     "shell.execute_reply.started": "2021-09-03T18:03:36.809766Z"
    },
    "papermill": {
     "duration": 0.067685,
     "end_time": "2021-09-03T18:47:43.751944",
     "exception": false,
     "start_time": "2021-09-03T18:47:43.684259",
     "status": "completed"
    },
    "tags": []
   },
   "outputs": [
    {
     "data": {
      "text/plain": [
       "S    644\n",
       "C    168\n",
       "Q     77\n",
       "Name: Embarked, dtype: int64"
      ]
     },
     "execution_count": 18,
     "metadata": {},
     "output_type": "execute_result"
    }
   ],
   "source": [
    "train['Embarked'].value_counts()"
   ]
  },
  {
   "cell_type": "code",
   "execution_count": 19,
   "id": "2d1dbb06",
   "metadata": {
    "execution": {
     "iopub.execute_input": "2021-09-03T18:47:43.875829Z",
     "iopub.status.busy": "2021-09-03T18:47:43.875010Z",
     "iopub.status.idle": "2021-09-03T18:47:43.907677Z",
     "shell.execute_reply": "2021-09-03T18:47:43.907194Z",
     "shell.execute_reply.started": "2021-09-03T18:03:36.820585Z"
    },
    "papermill": {
     "duration": 0.098409,
     "end_time": "2021-09-03T18:47:43.907793",
     "exception": false,
     "start_time": "2021-09-03T18:47:43.809384",
     "status": "completed"
    },
    "tags": []
   },
   "outputs": [
    {
     "name": "stdout",
     "output_type": "stream",
     "text": [
      "Pclass      1   2    3\n",
      "Survived              \n",
      "0          80  97  372\n",
      "1         136  87  119\n",
      "\n",
      "Sex       female  male\n",
      "Survived              \n",
      "0             81   468\n",
      "1            233   109\n",
      "\n",
      "Embarked   C   Q    S\n",
      "Survived             \n",
      "0         75  47  427\n",
      "1         93  30  217\n",
      "\n"
     ]
    }
   ],
   "source": [
    "print(pd.pivot_table(train,index='Survived',columns = 'Pclass',values= 'Ticket',aggfunc='count'))\n",
    "print()\n",
    "print(pd.pivot_table(train, index='Survived',columns = 'Sex',values='Ticket',aggfunc = 'count'))\n",
    "print()\n",
    "print(pd.pivot_table(train, index='Survived',columns = 'Embarked',values='Ticket',aggfunc = 'count'))\n",
    "print()"
   ]
  },
  {
   "cell_type": "code",
   "execution_count": 20,
   "id": "1a0b2805",
   "metadata": {
    "execution": {
     "iopub.execute_input": "2021-09-03T18:47:44.033012Z",
     "iopub.status.busy": "2021-09-03T18:47:44.032168Z",
     "iopub.status.idle": "2021-09-03T18:47:44.035342Z",
     "shell.execute_reply": "2021-09-03T18:47:44.035758Z",
     "shell.execute_reply.started": "2021-09-03T18:03:36.858860Z"
    },
    "papermill": {
     "duration": 0.06975,
     "end_time": "2021-09-03T18:47:44.035890",
     "exception": false,
     "start_time": "2021-09-03T18:47:43.966140",
     "status": "completed"
    },
    "tags": []
   },
   "outputs": [
    {
     "data": {
      "text/plain": [
       "0    687\n",
       "1    180\n",
       "2     16\n",
       "3      6\n",
       "4      2\n",
       "Name: cabin_m, dtype: int64"
      ]
     },
     "execution_count": 20,
     "metadata": {},
     "output_type": "execute_result"
    }
   ],
   "source": [
    "train['cabin_m'] = train.Cabin.apply(lambda x:0 if pd.isna(x) else len(x.split(' ')))\n",
    "train['cabin_m'].value_counts()"
   ]
  },
  {
   "cell_type": "code",
   "execution_count": 21,
   "id": "828b443b",
   "metadata": {
    "execution": {
     "iopub.execute_input": "2021-09-03T18:47:44.159943Z",
     "iopub.status.busy": "2021-09-03T18:47:44.159139Z",
     "iopub.status.idle": "2021-09-03T18:47:44.175433Z",
     "shell.execute_reply": "2021-09-03T18:47:44.174948Z",
     "shell.execute_reply.started": "2021-09-03T18:03:36.872094Z"
    },
    "papermill": {
     "duration": 0.081695,
     "end_time": "2021-09-03T18:47:44.175556",
     "exception": false,
     "start_time": "2021-09-03T18:47:44.093861",
     "status": "completed"
    },
    "tags": []
   },
   "outputs": [
    {
     "data": {
      "text/html": [
       "<div>\n",
       "<style scoped>\n",
       "    .dataframe tbody tr th:only-of-type {\n",
       "        vertical-align: middle;\n",
       "    }\n",
       "\n",
       "    .dataframe tbody tr th {\n",
       "        vertical-align: top;\n",
       "    }\n",
       "\n",
       "    .dataframe thead th {\n",
       "        text-align: right;\n",
       "    }\n",
       "</style>\n",
       "<table border=\"1\" class=\"dataframe\">\n",
       "  <thead>\n",
       "    <tr style=\"text-align: right;\">\n",
       "      <th>cabin_m</th>\n",
       "      <th>0</th>\n",
       "      <th>1</th>\n",
       "      <th>2</th>\n",
       "      <th>3</th>\n",
       "      <th>4</th>\n",
       "    </tr>\n",
       "    <tr>\n",
       "      <th>Survived</th>\n",
       "      <th></th>\n",
       "      <th></th>\n",
       "      <th></th>\n",
       "      <th></th>\n",
       "      <th></th>\n",
       "    </tr>\n",
       "  </thead>\n",
       "  <tbody>\n",
       "    <tr>\n",
       "      <th>0</th>\n",
       "      <td>481.0</td>\n",
       "      <td>58.0</td>\n",
       "      <td>7.0</td>\n",
       "      <td>3.0</td>\n",
       "      <td>NaN</td>\n",
       "    </tr>\n",
       "    <tr>\n",
       "      <th>1</th>\n",
       "      <td>206.0</td>\n",
       "      <td>122.0</td>\n",
       "      <td>9.0</td>\n",
       "      <td>3.0</td>\n",
       "      <td>2.0</td>\n",
       "    </tr>\n",
       "  </tbody>\n",
       "</table>\n",
       "</div>"
      ],
      "text/plain": [
       "cabin_m       0      1    2    3    4\n",
       "Survived                             \n",
       "0         481.0   58.0  7.0  3.0  NaN\n",
       "1         206.0  122.0  9.0  3.0  2.0"
      ]
     },
     "execution_count": 21,
     "metadata": {},
     "output_type": "execute_result"
    }
   ],
   "source": [
    "pd.pivot_table(train, index='Survived',columns = 'cabin_m',values='Ticket',aggfunc = 'count')\n"
   ]
  },
  {
   "cell_type": "code",
   "execution_count": 22,
   "id": "8f34d34e",
   "metadata": {
    "execution": {
     "iopub.execute_input": "2021-09-03T18:47:44.303342Z",
     "iopub.status.busy": "2021-09-03T18:47:44.302535Z",
     "iopub.status.idle": "2021-09-03T18:47:44.322515Z",
     "shell.execute_reply": "2021-09-03T18:47:44.322105Z",
     "shell.execute_reply.started": "2021-09-03T18:03:36.895115Z"
    },
    "papermill": {
     "duration": 0.086285,
     "end_time": "2021-09-03T18:47:44.322626",
     "exception": false,
     "start_time": "2021-09-03T18:47:44.236341",
     "status": "completed"
    },
    "tags": []
   },
   "outputs": [
    {
     "data": {
      "text/html": [
       "<div>\n",
       "<style scoped>\n",
       "    .dataframe tbody tr th:only-of-type {\n",
       "        vertical-align: middle;\n",
       "    }\n",
       "\n",
       "    .dataframe tbody tr th {\n",
       "        vertical-align: top;\n",
       "    }\n",
       "\n",
       "    .dataframe thead th {\n",
       "        text-align: right;\n",
       "    }\n",
       "</style>\n",
       "<table border=\"1\" class=\"dataframe\">\n",
       "  <thead>\n",
       "    <tr style=\"text-align: right;\">\n",
       "      <th>cabin_L</th>\n",
       "      <th>A</th>\n",
       "      <th>B</th>\n",
       "      <th>C</th>\n",
       "      <th>D</th>\n",
       "      <th>E</th>\n",
       "      <th>F</th>\n",
       "      <th>G</th>\n",
       "      <th>T</th>\n",
       "      <th>n</th>\n",
       "    </tr>\n",
       "    <tr>\n",
       "      <th>Survived</th>\n",
       "      <th></th>\n",
       "      <th></th>\n",
       "      <th></th>\n",
       "      <th></th>\n",
       "      <th></th>\n",
       "      <th></th>\n",
       "      <th></th>\n",
       "      <th></th>\n",
       "      <th></th>\n",
       "    </tr>\n",
       "  </thead>\n",
       "  <tbody>\n",
       "    <tr>\n",
       "      <th>0</th>\n",
       "      <td>8.0</td>\n",
       "      <td>12.0</td>\n",
       "      <td>24.0</td>\n",
       "      <td>8.0</td>\n",
       "      <td>8.0</td>\n",
       "      <td>5.0</td>\n",
       "      <td>2.0</td>\n",
       "      <td>1.0</td>\n",
       "      <td>481.0</td>\n",
       "    </tr>\n",
       "    <tr>\n",
       "      <th>1</th>\n",
       "      <td>7.0</td>\n",
       "      <td>35.0</td>\n",
       "      <td>35.0</td>\n",
       "      <td>25.0</td>\n",
       "      <td>24.0</td>\n",
       "      <td>8.0</td>\n",
       "      <td>2.0</td>\n",
       "      <td>NaN</td>\n",
       "      <td>206.0</td>\n",
       "    </tr>\n",
       "  </tbody>\n",
       "</table>\n",
       "</div>"
      ],
      "text/plain": [
       "cabin_L     A     B     C     D     E    F    G    T      n\n",
       "Survived                                                   \n",
       "0         8.0  12.0  24.0   8.0   8.0  5.0  2.0  1.0  481.0\n",
       "1         7.0  35.0  35.0  25.0  24.0  8.0  2.0  NaN  206.0"
      ]
     },
     "execution_count": 22,
     "metadata": {},
     "output_type": "execute_result"
    }
   ],
   "source": [
    "train['cabin_L'] = train.Cabin.apply(lambda x: str(x)[0])\n",
    "pd.pivot_table(train, index='Survived',columns = 'cabin_L',values='Ticket',aggfunc = 'count')\n"
   ]
  },
  {
   "cell_type": "code",
   "execution_count": 23,
   "id": "fa5d6f27",
   "metadata": {
    "execution": {
     "iopub.execute_input": "2021-09-03T18:47:44.450756Z",
     "iopub.status.busy": "2021-09-03T18:47:44.450017Z",
     "iopub.status.idle": "2021-09-03T18:47:44.452285Z",
     "shell.execute_reply": "2021-09-03T18:47:44.452713Z",
     "shell.execute_reply.started": "2021-09-03T18:03:36.924306Z"
    },
    "papermill": {
     "duration": 0.068904,
     "end_time": "2021-09-03T18:47:44.452837",
     "exception": false,
     "start_time": "2021-09-03T18:47:44.383933",
     "status": "completed"
    },
    "tags": []
   },
   "outputs": [],
   "source": [
    "train['ticket_numeric'] = train.Ticket.apply(lambda x: 1 if x.isnumeric() else 0)\n",
    "train['ticket_letter'] = train.Ticket.apply(lambda x: ''.join(x.split(' ')[:-1]).replace('.','').replace('/','').lower() if len(x.split(' ')[:-1])>0 else 0)"
   ]
  },
  {
   "cell_type": "code",
   "execution_count": 24,
   "id": "63dd160f",
   "metadata": {
    "execution": {
     "iopub.execute_input": "2021-09-03T18:47:44.576636Z",
     "iopub.status.busy": "2021-09-03T18:47:44.575793Z",
     "iopub.status.idle": "2021-09-03T18:47:44.590588Z",
     "shell.execute_reply": "2021-09-03T18:47:44.591016Z",
     "shell.execute_reply.started": "2021-09-03T18:03:36.936281Z"
    },
    "papermill": {
     "duration": 0.079251,
     "end_time": "2021-09-03T18:47:44.591171",
     "exception": false,
     "start_time": "2021-09-03T18:47:44.511920",
     "status": "completed"
    },
    "tags": []
   },
   "outputs": [
    {
     "data": {
      "text/html": [
       "<div>\n",
       "<style scoped>\n",
       "    .dataframe tbody tr th:only-of-type {\n",
       "        vertical-align: middle;\n",
       "    }\n",
       "\n",
       "    .dataframe tbody tr th {\n",
       "        vertical-align: top;\n",
       "    }\n",
       "\n",
       "    .dataframe thead th {\n",
       "        text-align: right;\n",
       "    }\n",
       "</style>\n",
       "<table border=\"1\" class=\"dataframe\">\n",
       "  <thead>\n",
       "    <tr style=\"text-align: right;\">\n",
       "      <th>ticket_numeric</th>\n",
       "      <th>0</th>\n",
       "      <th>1</th>\n",
       "    </tr>\n",
       "    <tr>\n",
       "      <th>Survived</th>\n",
       "      <th></th>\n",
       "      <th></th>\n",
       "    </tr>\n",
       "  </thead>\n",
       "  <tbody>\n",
       "    <tr>\n",
       "      <th>0</th>\n",
       "      <td>142</td>\n",
       "      <td>407</td>\n",
       "    </tr>\n",
       "    <tr>\n",
       "      <th>1</th>\n",
       "      <td>88</td>\n",
       "      <td>254</td>\n",
       "    </tr>\n",
       "  </tbody>\n",
       "</table>\n",
       "</div>"
      ],
      "text/plain": [
       "ticket_numeric    0    1\n",
       "Survived                \n",
       "0               142  407\n",
       "1                88  254"
      ]
     },
     "execution_count": 24,
     "metadata": {},
     "output_type": "execute_result"
    }
   ],
   "source": [
    "train['ticket_numeric'].value_counts()\n",
    "pd.pivot_table(train, index='Survived',columns = 'ticket_numeric',values='Ticket',aggfunc = 'count')\n"
   ]
  },
  {
   "cell_type": "code",
   "execution_count": 25,
   "id": "4aeadff5",
   "metadata": {
    "execution": {
     "iopub.execute_input": "2021-09-03T18:47:44.722893Z",
     "iopub.status.busy": "2021-09-03T18:47:44.722040Z",
     "iopub.status.idle": "2021-09-03T18:47:44.750803Z",
     "shell.execute_reply": "2021-09-03T18:47:44.751280Z",
     "shell.execute_reply.started": "2021-09-03T18:03:36.957102Z"
    },
    "papermill": {
     "duration": 0.096189,
     "end_time": "2021-09-03T18:47:44.751430",
     "exception": false,
     "start_time": "2021-09-03T18:47:44.655241",
     "status": "completed"
    },
    "tags": []
   },
   "outputs": [
    {
     "data": {
      "text/html": [
       "<div>\n",
       "<style scoped>\n",
       "    .dataframe tbody tr th:only-of-type {\n",
       "        vertical-align: middle;\n",
       "    }\n",
       "\n",
       "    .dataframe tbody tr th {\n",
       "        vertical-align: top;\n",
       "    }\n",
       "\n",
       "    .dataframe thead th {\n",
       "        text-align: right;\n",
       "    }\n",
       "</style>\n",
       "<table border=\"1\" class=\"dataframe\">\n",
       "  <thead>\n",
       "    <tr style=\"text-align: right;\">\n",
       "      <th>ticket_letter</th>\n",
       "      <th>0</th>\n",
       "      <th>a4</th>\n",
       "      <th>a5</th>\n",
       "      <th>as</th>\n",
       "      <th>c</th>\n",
       "      <th>ca</th>\n",
       "      <th>casoton</th>\n",
       "      <th>fa</th>\n",
       "      <th>fc</th>\n",
       "      <th>fcc</th>\n",
       "      <th>...</th>\n",
       "      <th>soc</th>\n",
       "      <th>sop</th>\n",
       "      <th>sopp</th>\n",
       "      <th>sotono2</th>\n",
       "      <th>sotonoq</th>\n",
       "      <th>sp</th>\n",
       "      <th>stono2</th>\n",
       "      <th>swpp</th>\n",
       "      <th>wc</th>\n",
       "      <th>wep</th>\n",
       "    </tr>\n",
       "    <tr>\n",
       "      <th>Survived</th>\n",
       "      <th></th>\n",
       "      <th></th>\n",
       "      <th></th>\n",
       "      <th></th>\n",
       "      <th></th>\n",
       "      <th></th>\n",
       "      <th></th>\n",
       "      <th></th>\n",
       "      <th></th>\n",
       "      <th></th>\n",
       "      <th></th>\n",
       "      <th></th>\n",
       "      <th></th>\n",
       "      <th></th>\n",
       "      <th></th>\n",
       "      <th></th>\n",
       "      <th></th>\n",
       "      <th></th>\n",
       "      <th></th>\n",
       "      <th></th>\n",
       "      <th></th>\n",
       "    </tr>\n",
       "  </thead>\n",
       "  <tbody>\n",
       "    <tr>\n",
       "      <th>0</th>\n",
       "      <td>410.0</td>\n",
       "      <td>7.0</td>\n",
       "      <td>19.0</td>\n",
       "      <td>1.0</td>\n",
       "      <td>3.0</td>\n",
       "      <td>27.0</td>\n",
       "      <td>1.0</td>\n",
       "      <td>1.0</td>\n",
       "      <td>1.0</td>\n",
       "      <td>1.0</td>\n",
       "      <td>...</td>\n",
       "      <td>5.0</td>\n",
       "      <td>1.0</td>\n",
       "      <td>3.0</td>\n",
       "      <td>2.0</td>\n",
       "      <td>13.0</td>\n",
       "      <td>1.0</td>\n",
       "      <td>10.0</td>\n",
       "      <td>NaN</td>\n",
       "      <td>9.0</td>\n",
       "      <td>2.0</td>\n",
       "    </tr>\n",
       "    <tr>\n",
       "      <th>1</th>\n",
       "      <td>255.0</td>\n",
       "      <td>NaN</td>\n",
       "      <td>2.0</td>\n",
       "      <td>NaN</td>\n",
       "      <td>2.0</td>\n",
       "      <td>14.0</td>\n",
       "      <td>NaN</td>\n",
       "      <td>NaN</td>\n",
       "      <td>NaN</td>\n",
       "      <td>4.0</td>\n",
       "      <td>...</td>\n",
       "      <td>1.0</td>\n",
       "      <td>NaN</td>\n",
       "      <td>NaN</td>\n",
       "      <td>NaN</td>\n",
       "      <td>2.0</td>\n",
       "      <td>NaN</td>\n",
       "      <td>8.0</td>\n",
       "      <td>2.0</td>\n",
       "      <td>1.0</td>\n",
       "      <td>1.0</td>\n",
       "    </tr>\n",
       "  </tbody>\n",
       "</table>\n",
       "<p>2 rows × 29 columns</p>\n",
       "</div>"
      ],
      "text/plain": [
       "ticket_letter      0   a4    a5   as    c    ca  casoton   fa   fc  fcc  ...  \\\n",
       "Survived                                                                 ...   \n",
       "0              410.0  7.0  19.0  1.0  3.0  27.0      1.0  1.0  1.0  1.0  ...   \n",
       "1              255.0  NaN   2.0  NaN  2.0  14.0      NaN  NaN  NaN  4.0  ...   \n",
       "\n",
       "ticket_letter  soc  sop  sopp  sotono2  sotonoq   sp  stono2  swpp   wc  wep  \n",
       "Survived                                                                      \n",
       "0              5.0  1.0   3.0      2.0     13.0  1.0    10.0   NaN  9.0  2.0  \n",
       "1              1.0  NaN   NaN      NaN      2.0  NaN     8.0   2.0  1.0  1.0  \n",
       "\n",
       "[2 rows x 29 columns]"
      ]
     },
     "execution_count": 25,
     "metadata": {},
     "output_type": "execute_result"
    }
   ],
   "source": [
    "train['ticket_letter'].value_counts()\n",
    "pd.pivot_table(train, index='Survived',columns = 'ticket_letter',values='Ticket',aggfunc = 'count')\n"
   ]
  },
  {
   "cell_type": "code",
   "execution_count": 26,
   "id": "3aca732a",
   "metadata": {
    "execution": {
     "iopub.execute_input": "2021-09-03T18:47:44.884178Z",
     "iopub.status.busy": "2021-09-03T18:47:44.883376Z",
     "iopub.status.idle": "2021-09-03T18:47:44.886024Z",
     "shell.execute_reply": "2021-09-03T18:47:44.885630Z",
     "shell.execute_reply.started": "2021-09-03T18:03:36.995260Z"
    },
    "papermill": {
     "duration": 0.071408,
     "end_time": "2021-09-03T18:47:44.886163",
     "exception": false,
     "start_time": "2021-09-03T18:47:44.814755",
     "status": "completed"
    },
    "tags": []
   },
   "outputs": [],
   "source": [
    "train['title'] = train.Name.apply(lambda x: x.split(',')[1].split('.')[0].strip())"
   ]
  },
  {
   "cell_type": "code",
   "execution_count": 27,
   "id": "f0bc6607",
   "metadata": {
    "execution": {
     "iopub.execute_input": "2021-09-03T18:47:45.014664Z",
     "iopub.status.busy": "2021-09-03T18:47:45.013960Z",
     "iopub.status.idle": "2021-09-03T18:47:45.017379Z",
     "shell.execute_reply": "2021-09-03T18:47:45.016900Z",
     "shell.execute_reply.started": "2021-09-03T18:03:37.008771Z"
    },
    "papermill": {
     "duration": 0.070059,
     "end_time": "2021-09-03T18:47:45.017492",
     "exception": false,
     "start_time": "2021-09-03T18:47:44.947433",
     "status": "completed"
    },
    "tags": []
   },
   "outputs": [
    {
     "data": {
      "text/plain": [
       "Mr              517\n",
       "Miss            182\n",
       "Mrs             125\n",
       "Master           40\n",
       "Dr                7\n",
       "Rev               6\n",
       "Col               2\n",
       "Major             2\n",
       "Mlle              2\n",
       "Don               1\n",
       "Jonkheer          1\n",
       "Capt              1\n",
       "Sir               1\n",
       "Lady              1\n",
       "Ms                1\n",
       "the Countess      1\n",
       "Mme               1\n",
       "Name: title, dtype: int64"
      ]
     },
     "execution_count": 27,
     "metadata": {},
     "output_type": "execute_result"
    }
   ],
   "source": [
    "train['title'].value_counts()"
   ]
  },
  {
   "cell_type": "code",
   "execution_count": 28,
   "id": "8361391c",
   "metadata": {
    "execution": {
     "iopub.execute_input": "2021-09-03T18:47:45.144339Z",
     "iopub.status.busy": "2021-09-03T18:47:45.143544Z",
     "iopub.status.idle": "2021-09-03T18:47:45.170246Z",
     "shell.execute_reply": "2021-09-03T18:47:45.170686Z",
     "shell.execute_reply.started": "2021-09-03T18:03:37.020536Z"
    },
    "papermill": {
     "duration": 0.092073,
     "end_time": "2021-09-03T18:47:45.170823",
     "exception": false,
     "start_time": "2021-09-03T18:47:45.078750",
     "status": "completed"
    },
    "tags": []
   },
   "outputs": [
    {
     "data": {
      "text/html": [
       "<div>\n",
       "<style scoped>\n",
       "    .dataframe tbody tr th:only-of-type {\n",
       "        vertical-align: middle;\n",
       "    }\n",
       "\n",
       "    .dataframe tbody tr th {\n",
       "        vertical-align: top;\n",
       "    }\n",
       "\n",
       "    .dataframe thead th {\n",
       "        text-align: right;\n",
       "    }\n",
       "</style>\n",
       "<table border=\"1\" class=\"dataframe\">\n",
       "  <thead>\n",
       "    <tr style=\"text-align: right;\">\n",
       "      <th>title</th>\n",
       "      <th>Capt</th>\n",
       "      <th>Col</th>\n",
       "      <th>Don</th>\n",
       "      <th>Dr</th>\n",
       "      <th>Jonkheer</th>\n",
       "      <th>Lady</th>\n",
       "      <th>Major</th>\n",
       "      <th>Master</th>\n",
       "      <th>Miss</th>\n",
       "      <th>Mlle</th>\n",
       "      <th>Mme</th>\n",
       "      <th>Mr</th>\n",
       "      <th>Mrs</th>\n",
       "      <th>Ms</th>\n",
       "      <th>Rev</th>\n",
       "      <th>Sir</th>\n",
       "      <th>the Countess</th>\n",
       "    </tr>\n",
       "    <tr>\n",
       "      <th>Survived</th>\n",
       "      <th></th>\n",
       "      <th></th>\n",
       "      <th></th>\n",
       "      <th></th>\n",
       "      <th></th>\n",
       "      <th></th>\n",
       "      <th></th>\n",
       "      <th></th>\n",
       "      <th></th>\n",
       "      <th></th>\n",
       "      <th></th>\n",
       "      <th></th>\n",
       "      <th></th>\n",
       "      <th></th>\n",
       "      <th></th>\n",
       "      <th></th>\n",
       "      <th></th>\n",
       "    </tr>\n",
       "  </thead>\n",
       "  <tbody>\n",
       "    <tr>\n",
       "      <th>0</th>\n",
       "      <td>1.0</td>\n",
       "      <td>1.0</td>\n",
       "      <td>1.0</td>\n",
       "      <td>4.0</td>\n",
       "      <td>1.0</td>\n",
       "      <td>NaN</td>\n",
       "      <td>1.0</td>\n",
       "      <td>17.0</td>\n",
       "      <td>55.0</td>\n",
       "      <td>NaN</td>\n",
       "      <td>NaN</td>\n",
       "      <td>436.0</td>\n",
       "      <td>26.0</td>\n",
       "      <td>NaN</td>\n",
       "      <td>6.0</td>\n",
       "      <td>NaN</td>\n",
       "      <td>NaN</td>\n",
       "    </tr>\n",
       "    <tr>\n",
       "      <th>1</th>\n",
       "      <td>NaN</td>\n",
       "      <td>1.0</td>\n",
       "      <td>NaN</td>\n",
       "      <td>3.0</td>\n",
       "      <td>NaN</td>\n",
       "      <td>1.0</td>\n",
       "      <td>1.0</td>\n",
       "      <td>23.0</td>\n",
       "      <td>127.0</td>\n",
       "      <td>2.0</td>\n",
       "      <td>1.0</td>\n",
       "      <td>81.0</td>\n",
       "      <td>99.0</td>\n",
       "      <td>1.0</td>\n",
       "      <td>NaN</td>\n",
       "      <td>1.0</td>\n",
       "      <td>1.0</td>\n",
       "    </tr>\n",
       "  </tbody>\n",
       "</table>\n",
       "</div>"
      ],
      "text/plain": [
       "title     Capt  Col  Don   Dr  Jonkheer  Lady  Major  Master   Miss  Mlle  \\\n",
       "Survived                                                                    \n",
       "0          1.0  1.0  1.0  4.0       1.0   NaN    1.0    17.0   55.0   NaN   \n",
       "1          NaN  1.0  NaN  3.0       NaN   1.0    1.0    23.0  127.0   2.0   \n",
       "\n",
       "title     Mme     Mr   Mrs   Ms  Rev  Sir  the Countess  \n",
       "Survived                                                 \n",
       "0         NaN  436.0  26.0  NaN  6.0  NaN           NaN  \n",
       "1         1.0   81.0  99.0  1.0  NaN  1.0           1.0  "
      ]
     },
     "execution_count": 28,
     "metadata": {},
     "output_type": "execute_result"
    }
   ],
   "source": [
    "pd.pivot_table(train, index='Survived',columns = 'title',values='Ticket',aggfunc = 'count')\n"
   ]
  },
  {
   "cell_type": "code",
   "execution_count": 29,
   "id": "1305df07",
   "metadata": {
    "execution": {
     "iopub.execute_input": "2021-09-03T18:47:45.296951Z",
     "iopub.status.busy": "2021-09-03T18:47:45.296115Z",
     "iopub.status.idle": "2021-09-03T18:47:45.298825Z",
     "shell.execute_reply": "2021-09-03T18:47:45.298416Z",
     "shell.execute_reply.started": "2021-09-03T18:03:37.055858Z"
    },
    "papermill": {
     "duration": 0.066174,
     "end_time": "2021-09-03T18:47:45.298938",
     "exception": false,
     "start_time": "2021-09-03T18:47:45.232764",
     "status": "completed"
    },
    "tags": []
   },
   "outputs": [],
   "source": [
    "##### Data Preprocessing for model"
   ]
  },
  {
   "cell_type": "code",
   "execution_count": 30,
   "id": "a81e1c12",
   "metadata": {
    "execution": {
     "iopub.execute_input": "2021-09-03T18:47:45.428705Z",
     "iopub.status.busy": "2021-09-03T18:47:45.427881Z",
     "iopub.status.idle": "2021-09-03T18:47:45.438011Z",
     "shell.execute_reply": "2021-09-03T18:47:45.437550Z",
     "shell.execute_reply.started": "2021-09-03T18:03:37.061498Z"
    },
    "papermill": {
     "duration": 0.078416,
     "end_time": "2021-09-03T18:47:45.438134",
     "exception": false,
     "start_time": "2021-09-03T18:47:45.359718",
     "status": "completed"
    },
    "tags": []
   },
   "outputs": [],
   "source": [
    "data['cabin_m'] = train.Cabin.apply(lambda x:0 if pd.isna(x) else len(x.split(' ')))\n",
    "data['cabin_L'] = train.Cabin.apply(lambda x: str(x)[0])\n",
    "data['ticket_numeric'] = train.Ticket.apply(lambda x: 1 if x.isnumeric() else 0)\n",
    "data['ticket_letter'] = train.Ticket.apply(lambda x: ''.join(x.split(' ')[:-1]).replace('.','').replace('/','').lower() if len(x.split(' ')[:-1])>0 else 0)\n",
    "data['title'] = train.Name.apply(lambda x: x.split(',')[1].split('.')[0].strip())"
   ]
  },
  {
   "cell_type": "code",
   "execution_count": 31,
   "id": "f7f97bdf",
   "metadata": {
    "execution": {
     "iopub.execute_input": "2021-09-03T18:47:45.566088Z",
     "iopub.status.busy": "2021-09-03T18:47:45.565306Z",
     "iopub.status.idle": "2021-09-03T18:47:45.570192Z",
     "shell.execute_reply": "2021-09-03T18:47:45.570595Z",
     "shell.execute_reply.started": "2021-09-03T18:03:37.081560Z"
    },
    "papermill": {
     "duration": 0.072412,
     "end_time": "2021-09-03T18:47:45.570728",
     "exception": false,
     "start_time": "2021-09-03T18:47:45.498316",
     "status": "completed"
    },
    "tags": []
   },
   "outputs": [],
   "source": [
    "data.Age = data.Age.fillna(train.Age.mean())\n",
    "data.Fare = data.Fare.fillna(train.Fare.mean())\n",
    "data.dropna(subset = ['Embarked'], inplace = True)"
   ]
  },
  {
   "cell_type": "code",
   "execution_count": 32,
   "id": "f856d3aa",
   "metadata": {
    "execution": {
     "iopub.execute_input": "2021-09-03T18:47:45.702049Z",
     "iopub.status.busy": "2021-09-03T18:47:45.701240Z",
     "iopub.status.idle": "2021-09-03T18:47:45.705957Z",
     "shell.execute_reply": "2021-09-03T18:47:45.706367Z",
     "shell.execute_reply.started": "2021-09-03T18:03:37.094012Z"
    },
    "papermill": {
     "duration": 0.075688,
     "end_time": "2021-09-03T18:47:45.706512",
     "exception": false,
     "start_time": "2021-09-03T18:47:45.630824",
     "status": "completed"
    },
    "tags": []
   },
   "outputs": [
    {
     "data": {
      "text/plain": [
       "PassengerId          0\n",
       "Survived           418\n",
       "Pclass               0\n",
       "Name                 0\n",
       "Sex                  0\n",
       "Age                  0\n",
       "SibSp                0\n",
       "Parch                0\n",
       "Ticket               0\n",
       "Fare                 0\n",
       "Cabin             1014\n",
       "Embarked             0\n",
       "train_test           0\n",
       "cabin_m              0\n",
       "cabin_L              0\n",
       "ticket_numeric       0\n",
       "ticket_letter        0\n",
       "title                0\n",
       "dtype: int64"
      ]
     },
     "execution_count": 32,
     "metadata": {},
     "output_type": "execute_result"
    }
   ],
   "source": [
    "data.isna().sum()"
   ]
  },
  {
   "cell_type": "code",
   "execution_count": 33,
   "id": "9ee0a66f",
   "metadata": {
    "execution": {
     "iopub.execute_input": "2021-09-03T18:47:45.835682Z",
     "iopub.status.busy": "2021-09-03T18:47:45.834904Z",
     "iopub.status.idle": "2021-09-03T18:47:45.975841Z",
     "shell.execute_reply": "2021-09-03T18:47:45.976241Z",
     "shell.execute_reply.started": "2021-09-03T18:03:37.105858Z"
    },
    "papermill": {
     "duration": 0.206902,
     "end_time": "2021-09-03T18:47:45.976387",
     "exception": false,
     "start_time": "2021-09-03T18:47:45.769485",
     "status": "completed"
    },
    "tags": []
   },
   "outputs": [
    {
     "data": {
      "text/plain": [
       "(array([ 17.,   0.,   3., 514., 250., 262., 129.,  78.,  50.,   4.]),\n",
       " array([0.        , 0.62409174, 1.24818347, 1.87227521, 2.49636694,\n",
       "        3.12045868, 3.74455041, 4.36864215, 4.99273388, 5.61682562,\n",
       "        6.24091735]),\n",
       " <BarContainer object of 10 artists>)"
      ]
     },
     "execution_count": 33,
     "metadata": {},
     "output_type": "execute_result"
    },
    {
     "data": {
      "image/png": "[encoded data removed]",
      "text/plain": [
       "<Figure size 432x288 with 1 Axes>"
      ]
     },
     "metadata": {
      "needs_background": "light"
     },
     "output_type": "display_data"
    }
   ],
   "source": [
    "data['norm_Fare'] = np.log(data.Fare + 1)\n",
    "plt.hist(data.norm_Fare)"
   ]
  },
  {
   "cell_type": "code",
   "execution_count": 34,
   "id": "19dcf51e",
   "metadata": {
    "execution": {
     "iopub.execute_input": "2021-09-03T18:47:46.107616Z",
     "iopub.status.busy": "2021-09-03T18:47:46.106805Z",
     "iopub.status.idle": "2021-09-03T18:47:46.118221Z",
     "shell.execute_reply": "2021-09-03T18:47:46.117772Z",
     "shell.execute_reply.started": "2021-09-03T18:03:37.248693Z"
    },
    "papermill": {
     "duration": 0.080428,
     "end_time": "2021-09-03T18:47:46.118331",
     "exception": false,
     "start_time": "2021-09-03T18:47:46.037903",
     "status": "completed"
    },
    "tags": []
   },
   "outputs": [],
   "source": [
    "data.Pclass = data.Pclass.astype(str)\n",
    "dummies = pd.get_dummies(data[['Pclass','Sex','Age','SibSp','Parch','norm_Fare','Embarked','cabin_L','cabin_m','ticket_numeric','title','train_test']])"
   ]
  },
  {
   "cell_type": "code",
   "execution_count": 35,
   "id": "9a4ca4d4",
   "metadata": {
    "execution": {
     "iopub.execute_input": "2021-09-03T18:47:46.246756Z",
     "iopub.status.busy": "2021-09-03T18:47:46.245939Z",
     "iopub.status.idle": "2021-09-03T18:47:46.270689Z",
     "shell.execute_reply": "2021-09-03T18:47:46.270106Z",
     "shell.execute_reply.started": "2021-09-03T18:03:37.266919Z"
    },
    "papermill": {
     "duration": 0.091026,
     "end_time": "2021-09-03T18:47:46.270809",
     "exception": false,
     "start_time": "2021-09-03T18:47:46.179783",
     "status": "completed"
    },
    "tags": []
   },
   "outputs": [
    {
     "data": {
      "text/html": [
       "<div>\n",
       "<style scoped>\n",
       "    .dataframe tbody tr th:only-of-type {\n",
       "        vertical-align: middle;\n",
       "    }\n",
       "\n",
       "    .dataframe tbody tr th {\n",
       "        vertical-align: top;\n",
       "    }\n",
       "\n",
       "    .dataframe thead th {\n",
       "        text-align: right;\n",
       "    }\n",
       "</style>\n",
       "<table border=\"1\" class=\"dataframe\">\n",
       "  <thead>\n",
       "    <tr style=\"text-align: right;\">\n",
       "      <th></th>\n",
       "      <th>Age</th>\n",
       "      <th>SibSp</th>\n",
       "      <th>Parch</th>\n",
       "      <th>norm_Fare</th>\n",
       "      <th>cabin_m</th>\n",
       "      <th>ticket_numeric</th>\n",
       "      <th>train_test</th>\n",
       "      <th>Pclass_1</th>\n",
       "      <th>Pclass_2</th>\n",
       "      <th>Pclass_3</th>\n",
       "      <th>...</th>\n",
       "      <th>title_Master</th>\n",
       "      <th>title_Miss</th>\n",
       "      <th>title_Mlle</th>\n",
       "      <th>title_Mme</th>\n",
       "      <th>title_Mr</th>\n",
       "      <th>title_Mrs</th>\n",
       "      <th>title_Ms</th>\n",
       "      <th>title_Rev</th>\n",
       "      <th>title_Sir</th>\n",
       "      <th>title_the Countess</th>\n",
       "    </tr>\n",
       "  </thead>\n",
       "  <tbody>\n",
       "    <tr>\n",
       "      <th>0</th>\n",
       "      <td>22.000000</td>\n",
       "      <td>1</td>\n",
       "      <td>0</td>\n",
       "      <td>2.110213</td>\n",
       "      <td>0</td>\n",
       "      <td>0</td>\n",
       "      <td>1</td>\n",
       "      <td>0</td>\n",
       "      <td>0</td>\n",
       "      <td>1</td>\n",
       "      <td>...</td>\n",
       "      <td>0</td>\n",
       "      <td>0</td>\n",
       "      <td>0</td>\n",
       "      <td>0</td>\n",
       "      <td>1</td>\n",
       "      <td>0</td>\n",
       "      <td>0</td>\n",
       "      <td>0</td>\n",
       "      <td>0</td>\n",
       "      <td>0</td>\n",
       "    </tr>\n",
       "    <tr>\n",
       "      <th>1</th>\n",
       "      <td>38.000000</td>\n",
       "      <td>1</td>\n",
       "      <td>0</td>\n",
       "      <td>4.280593</td>\n",
       "      <td>1</td>\n",
       "      <td>0</td>\n",
       "      <td>1</td>\n",
       "      <td>1</td>\n",
       "      <td>0</td>\n",
       "      <td>0</td>\n",
       "      <td>...</td>\n",
       "      <td>0</td>\n",
       "      <td>0</td>\n",
       "      <td>0</td>\n",
       "      <td>0</td>\n",
       "      <td>0</td>\n",
       "      <td>1</td>\n",
       "      <td>0</td>\n",
       "      <td>0</td>\n",
       "      <td>0</td>\n",
       "      <td>0</td>\n",
       "    </tr>\n",
       "    <tr>\n",
       "      <th>2</th>\n",
       "      <td>26.000000</td>\n",
       "      <td>0</td>\n",
       "      <td>0</td>\n",
       "      <td>2.188856</td>\n",
       "      <td>0</td>\n",
       "      <td>0</td>\n",
       "      <td>1</td>\n",
       "      <td>0</td>\n",
       "      <td>0</td>\n",
       "      <td>1</td>\n",
       "      <td>...</td>\n",
       "      <td>0</td>\n",
       "      <td>1</td>\n",
       "      <td>0</td>\n",
       "      <td>0</td>\n",
       "      <td>0</td>\n",
       "      <td>0</td>\n",
       "      <td>0</td>\n",
       "      <td>0</td>\n",
       "      <td>0</td>\n",
       "      <td>0</td>\n",
       "    </tr>\n",
       "    <tr>\n",
       "      <th>3</th>\n",
       "      <td>35.000000</td>\n",
       "      <td>1</td>\n",
       "      <td>0</td>\n",
       "      <td>3.990834</td>\n",
       "      <td>1</td>\n",
       "      <td>1</td>\n",
       "      <td>1</td>\n",
       "      <td>1</td>\n",
       "      <td>0</td>\n",
       "      <td>0</td>\n",
       "      <td>...</td>\n",
       "      <td>0</td>\n",
       "      <td>0</td>\n",
       "      <td>0</td>\n",
       "      <td>0</td>\n",
       "      <td>0</td>\n",
       "      <td>1</td>\n",
       "      <td>0</td>\n",
       "      <td>0</td>\n",
       "      <td>0</td>\n",
       "      <td>0</td>\n",
       "    </tr>\n",
       "    <tr>\n",
       "      <th>4</th>\n",
       "      <td>35.000000</td>\n",
       "      <td>0</td>\n",
       "      <td>0</td>\n",
       "      <td>2.202765</td>\n",
       "      <td>0</td>\n",
       "      <td>1</td>\n",
       "      <td>1</td>\n",
       "      <td>0</td>\n",
       "      <td>0</td>\n",
       "      <td>1</td>\n",
       "      <td>...</td>\n",
       "      <td>0</td>\n",
       "      <td>0</td>\n",
       "      <td>0</td>\n",
       "      <td>0</td>\n",
       "      <td>1</td>\n",
       "      <td>0</td>\n",
       "      <td>0</td>\n",
       "      <td>0</td>\n",
       "      <td>0</td>\n",
       "      <td>0</td>\n",
       "    </tr>\n",
       "    <tr>\n",
       "      <th>...</th>\n",
       "      <td>...</td>\n",
       "      <td>...</td>\n",
       "      <td>...</td>\n",
       "      <td>...</td>\n",
       "      <td>...</td>\n",
       "      <td>...</td>\n",
       "      <td>...</td>\n",
       "      <td>...</td>\n",
       "      <td>...</td>\n",
       "      <td>...</td>\n",
       "      <td>...</td>\n",
       "      <td>...</td>\n",
       "      <td>...</td>\n",
       "      <td>...</td>\n",
       "      <td>...</td>\n",
       "      <td>...</td>\n",
       "      <td>...</td>\n",
       "      <td>...</td>\n",
       "      <td>...</td>\n",
       "      <td>...</td>\n",
       "      <td>...</td>\n",
       "    </tr>\n",
       "    <tr>\n",
       "      <th>413</th>\n",
       "      <td>29.699118</td>\n",
       "      <td>0</td>\n",
       "      <td>0</td>\n",
       "      <td>2.202765</td>\n",
       "      <td>0</td>\n",
       "      <td>1</td>\n",
       "      <td>0</td>\n",
       "      <td>0</td>\n",
       "      <td>0</td>\n",
       "      <td>1</td>\n",
       "      <td>...</td>\n",
       "      <td>0</td>\n",
       "      <td>0</td>\n",
       "      <td>0</td>\n",
       "      <td>0</td>\n",
       "      <td>1</td>\n",
       "      <td>0</td>\n",
       "      <td>0</td>\n",
       "      <td>0</td>\n",
       "      <td>0</td>\n",
       "      <td>0</td>\n",
       "    </tr>\n",
       "    <tr>\n",
       "      <th>414</th>\n",
       "      <td>39.000000</td>\n",
       "      <td>0</td>\n",
       "      <td>0</td>\n",
       "      <td>4.699571</td>\n",
       "      <td>0</td>\n",
       "      <td>0</td>\n",
       "      <td>0</td>\n",
       "      <td>1</td>\n",
       "      <td>0</td>\n",
       "      <td>0</td>\n",
       "      <td>...</td>\n",
       "      <td>0</td>\n",
       "      <td>0</td>\n",
       "      <td>0</td>\n",
       "      <td>0</td>\n",
       "      <td>1</td>\n",
       "      <td>0</td>\n",
       "      <td>0</td>\n",
       "      <td>0</td>\n",
       "      <td>0</td>\n",
       "      <td>0</td>\n",
       "    </tr>\n",
       "    <tr>\n",
       "      <th>415</th>\n",
       "      <td>38.500000</td>\n",
       "      <td>0</td>\n",
       "      <td>0</td>\n",
       "      <td>2.110213</td>\n",
       "      <td>0</td>\n",
       "      <td>1</td>\n",
       "      <td>0</td>\n",
       "      <td>0</td>\n",
       "      <td>0</td>\n",
       "      <td>1</td>\n",
       "      <td>...</td>\n",
       "      <td>0</td>\n",
       "      <td>0</td>\n",
       "      <td>0</td>\n",
       "      <td>0</td>\n",
       "      <td>0</td>\n",
       "      <td>1</td>\n",
       "      <td>0</td>\n",
       "      <td>0</td>\n",
       "      <td>0</td>\n",
       "      <td>0</td>\n",
       "    </tr>\n",
       "    <tr>\n",
       "      <th>416</th>\n",
       "      <td>29.699118</td>\n",
       "      <td>0</td>\n",
       "      <td>0</td>\n",
       "      <td>2.202765</td>\n",
       "      <td>0</td>\n",
       "      <td>1</td>\n",
       "      <td>0</td>\n",
       "      <td>0</td>\n",
       "      <td>0</td>\n",
       "      <td>1</td>\n",
       "      <td>...</td>\n",
       "      <td>0</td>\n",
       "      <td>0</td>\n",
       "      <td>0</td>\n",
       "      <td>0</td>\n",
       "      <td>0</td>\n",
       "      <td>1</td>\n",
       "      <td>0</td>\n",
       "      <td>0</td>\n",
       "      <td>0</td>\n",
       "      <td>0</td>\n",
       "    </tr>\n",
       "    <tr>\n",
       "      <th>417</th>\n",
       "      <td>29.699118</td>\n",
       "      <td>1</td>\n",
       "      <td>1</td>\n",
       "      <td>3.150952</td>\n",
       "      <td>0</td>\n",
       "      <td>1</td>\n",
       "      <td>0</td>\n",
       "      <td>0</td>\n",
       "      <td>0</td>\n",
       "      <td>1</td>\n",
       "      <td>...</td>\n",
       "      <td>0</td>\n",
       "      <td>1</td>\n",
       "      <td>0</td>\n",
       "      <td>0</td>\n",
       "      <td>0</td>\n",
       "      <td>0</td>\n",
       "      <td>0</td>\n",
       "      <td>0</td>\n",
       "      <td>0</td>\n",
       "      <td>0</td>\n",
       "    </tr>\n",
       "  </tbody>\n",
       "</table>\n",
       "<p>1307 rows × 41 columns</p>\n",
       "</div>"
      ],
      "text/plain": [
       "           Age  SibSp  Parch  norm_Fare  cabin_m  ticket_numeric  train_test  \\\n",
       "0    22.000000      1      0   2.110213        0               0           1   \n",
       "1    38.000000      1      0   4.280593        1               0           1   \n",
       "2    26.000000      0      0   2.188856        0               0           1   \n",
       "3    35.000000      1      0   3.990834        1               1           1   \n",
       "4    35.000000      0      0   2.202765        0               1           1   \n",
       "..         ...    ...    ...        ...      ...             ...         ...   \n",
       "413  29.699118      0      0   2.202765        0               1           0   \n",
       "414  39.000000      0      0   4.699571        0               0           0   \n",
       "415  38.500000      0      0   2.110213        0               1           0   \n",
       "416  29.699118      0      0   2.202765        0               1           0   \n",
       "417  29.699118      1      1   3.150952        0               1           0   \n",
       "\n",
       "     Pclass_1  Pclass_2  Pclass_3  ...  title_Master  title_Miss  title_Mlle  \\\n",
       "0           0         0         1  ...             0           0           0   \n",
       "1           1         0         0  ...             0           0           0   \n",
       "2           0         0         1  ...             0           1           0   \n",
       "3           1         0         0  ...             0           0           0   \n",
       "4           0         0         1  ...             0           0           0   \n",
       "..        ...       ...       ...  ...           ...         ...         ...   \n",
       "413         0         0         1  ...             0           0           0   \n",
       "414         1         0         0  ...             0           0           0   \n",
       "415         0         0         1  ...             0           0           0   \n",
       "416         0         0         1  ...             0           0           0   \n",
       "417         0         0         1  ...             0           1           0   \n",
       "\n",
       "     title_Mme  title_Mr  title_Mrs  title_Ms  title_Rev  title_Sir  \\\n",
       "0            0         1          0         0          0          0   \n",
       "1            0         0          1         0          0          0   \n",
       "2            0         0          0         0          0          0   \n",
       "3            0         0          1         0          0          0   \n",
       "4            0         1          0         0          0          0   \n",
       "..         ...       ...        ...       ...        ...        ...   \n",
       "413          0         1          0         0          0          0   \n",
       "414          0         1          0         0          0          0   \n",
       "415          0         0          1         0          0          0   \n",
       "416          0         0          1         0          0          0   \n",
       "417          0         0          0         0          0          0   \n",
       "\n",
       "     title_the Countess  \n",
       "0                     0  \n",
       "1                     0  \n",
       "2                     0  \n",
       "3                     0  \n",
       "4                     0  \n",
       "..                  ...  \n",
       "413                   0  \n",
       "414                   0  \n",
       "415                   0  \n",
       "416                   0  \n",
       "417                   0  \n",
       "\n",
       "[1307 rows x 41 columns]"
      ]
     },
     "execution_count": 35,
     "metadata": {},
     "output_type": "execute_result"
    }
   ],
   "source": [
    "dummies"
   ]
  },
  {
   "cell_type": "code",
   "execution_count": 36,
   "id": "3e012844",
   "metadata": {
    "execution": {
     "iopub.execute_input": "2021-09-03T18:47:46.406330Z",
     "iopub.status.busy": "2021-09-03T18:47:46.405538Z",
     "iopub.status.idle": "2021-09-03T18:47:46.408511Z",
     "shell.execute_reply": "2021-09-03T18:47:46.408943Z",
     "shell.execute_reply.started": "2021-09-03T18:03:37.297232Z"
    },
    "papermill": {
     "duration": 0.072377,
     "end_time": "2021-09-03T18:47:46.409095",
     "exception": false,
     "start_time": "2021-09-03T18:47:46.336718",
     "status": "completed"
    },
    "tags": []
   },
   "outputs": [
    {
     "data": {
      "text/plain": [
       "29.699118    263\n",
       "24.000000     47\n",
       "22.000000     43\n",
       "21.000000     41\n",
       "30.000000     40\n",
       "            ... \n",
       "20.500000      1\n",
       "11.500000      1\n",
       "76.000000      1\n",
       "0.330000       1\n",
       "60.500000      1\n",
       "Name: Age, Length: 99, dtype: int64"
      ]
     },
     "execution_count": 36,
     "metadata": {},
     "output_type": "execute_result"
    }
   ],
   "source": [
    "data.Age.value_counts()"
   ]
  },
  {
   "cell_type": "code",
   "execution_count": 37,
   "id": "1ed34227",
   "metadata": {
    "execution": {
     "iopub.execute_input": "2021-09-03T18:47:46.544341Z",
     "iopub.status.busy": "2021-09-03T18:47:46.543480Z",
     "iopub.status.idle": "2021-09-03T18:47:46.549633Z",
     "shell.execute_reply": "2021-09-03T18:47:46.549188Z",
     "shell.execute_reply.started": "2021-09-03T18:03:37.307881Z"
    },
    "papermill": {
     "duration": 0.07534,
     "end_time": "2021-09-03T18:47:46.549741",
     "exception": false,
     "start_time": "2021-09-03T18:47:46.474401",
     "status": "completed"
    },
    "tags": []
   },
   "outputs": [],
   "source": [
    "X_train = dummies[dummies.train_test == 1].drop(['train_test'],axis = 1)\n",
    "X_test = dummies[dummies.train_test == 0].drop(['train_test'],axis = 1)"
   ]
  },
  {
   "cell_type": "code",
   "execution_count": 38,
   "id": "29ddf094",
   "metadata": {
    "execution": {
     "iopub.execute_input": "2021-09-03T18:47:46.681078Z",
     "iopub.status.busy": "2021-09-03T18:47:46.680379Z",
     "iopub.status.idle": "2021-09-03T18:47:46.884741Z",
     "shell.execute_reply": "2021-09-03T18:47:46.884229Z",
     "shell.execute_reply.started": "2021-09-03T18:03:37.320627Z"
    },
    "papermill": {
     "duration": 0.271938,
     "end_time": "2021-09-03T18:47:46.884871",
     "exception": false,
     "start_time": "2021-09-03T18:47:46.612933",
     "status": "completed"
    },
    "tags": []
   },
   "outputs": [],
   "source": [
    "# Scale the data\n",
    "from sklearn.preprocessing import StandardScaler\n",
    "scaler = StandardScaler()\n",
    "dummy_scale = dummies.copy()\n",
    "dummy_scale[['Age','SibSp','Parch','norm_Fare']]= scaler.fit_transform(dummy_scale[['Age','SibSp','Parch','norm_Fare']])"
   ]
  },
  {
   "cell_type": "code",
   "execution_count": 39,
   "id": "2d93ca00",
   "metadata": {
    "execution": {
     "iopub.execute_input": "2021-09-03T18:47:47.016004Z",
     "iopub.status.busy": "2021-09-03T18:47:47.015210Z",
     "iopub.status.idle": "2021-09-03T18:47:47.021149Z",
     "shell.execute_reply": "2021-09-03T18:47:47.020725Z",
     "shell.execute_reply.started": "2021-09-03T18:03:37.535743Z"
    },
    "papermill": {
     "duration": 0.072816,
     "end_time": "2021-09-03T18:47:47.021260",
     "exception": false,
     "start_time": "2021-09-03T18:47:46.948444",
     "status": "completed"
    },
    "tags": []
   },
   "outputs": [],
   "source": [
    "X_train = dummy_scale[dummy_scale.train_test == 1].drop(['train_test'],axis = 1)\n",
    "X_test = dummy_scale[dummy_scale.train_test == 0].drop(['train_test'],axis = 1)"
   ]
  },
  {
   "cell_type": "code",
   "execution_count": 40,
   "id": "5d5e0448",
   "metadata": {
    "execution": {
     "iopub.execute_input": "2021-09-03T18:47:47.152559Z",
     "iopub.status.busy": "2021-09-03T18:47:47.151871Z",
     "iopub.status.idle": "2021-09-03T18:47:47.154305Z",
     "shell.execute_reply": "2021-09-03T18:47:47.154735Z",
     "shell.execute_reply.started": "2021-09-03T18:03:37.549497Z"
    },
    "papermill": {
     "duration": 0.07045,
     "end_time": "2021-09-03T18:47:47.154861",
     "exception": false,
     "start_time": "2021-09-03T18:47:47.084411",
     "status": "completed"
    },
    "tags": []
   },
   "outputs": [],
   "source": [
    "y_train = data[data.train_test == 1].Survived"
   ]
  },
  {
   "cell_type": "code",
   "execution_count": 41,
   "id": "5882d2c8",
   "metadata": {
    "execution": {
     "iopub.execute_input": "2021-09-03T18:47:47.282642Z",
     "iopub.status.busy": "2021-09-03T18:47:47.282007Z",
     "iopub.status.idle": "2021-09-03T18:47:47.481300Z",
     "shell.execute_reply": "2021-09-03T18:47:47.480775Z",
     "shell.execute_reply.started": "2021-09-03T18:03:37.558690Z"
    },
    "papermill": {
     "duration": 0.264823,
     "end_time": "2021-09-03T18:47:47.481431",
     "exception": false,
     "start_time": "2021-09-03T18:47:47.216608",
     "status": "completed"
    },
    "tags": []
   },
   "outputs": [],
   "source": [
    "from sklearn.model_selection import cross_val_score\n",
    "from sklearn.naive_bayes import GaussianNB\n",
    "from sklearn.linear_model import LogisticRegression\n",
    "from sklearn import tree\n",
    "from sklearn.neighbors import KNeighborsClassifier\n",
    "from sklearn.ensemble import RandomForestClassifier\n",
    "from sklearn.svm import SVC"
   ]
  },
  {
   "cell_type": "code",
   "execution_count": 42,
   "id": "94758df1",
   "metadata": {
    "execution": {
     "iopub.execute_input": "2021-09-03T18:47:47.615688Z",
     "iopub.status.busy": "2021-09-03T18:47:47.614832Z",
     "iopub.status.idle": "2021-09-03T18:47:47.654933Z",
     "shell.execute_reply": "2021-09-03T18:47:47.654306Z",
     "shell.execute_reply.started": "2021-09-03T18:03:37.767378Z"
    },
    "papermill": {
     "duration": 0.110031,
     "end_time": "2021-09-03T18:47:47.655125",
     "exception": false,
     "start_time": "2021-09-03T18:47:47.545094",
     "status": "completed"
    },
    "tags": []
   },
   "outputs": [
    {
     "name": "stdout",
     "output_type": "stream",
     "text": [
      "[0.66853933 0.70224719 0.75842697 0.74719101 0.73446328]\n",
      "0.7221735542436362\n"
     ]
    }
   ],
   "source": [
    "gnb = GaussianNB()\n",
    "cv = cross_val_score(gnb,X_train,y_train,cv = 5)\n",
    "print(cv)\n",
    "print(cv.mean())"
   ]
  },
  {
   "cell_type": "code",
   "execution_count": 43,
   "id": "de211760",
   "metadata": {
    "execution": {
     "iopub.execute_input": "2021-09-03T18:47:47.813543Z",
     "iopub.status.busy": "2021-09-03T18:47:47.812710Z",
     "iopub.status.idle": "2021-09-03T18:47:48.203916Z",
     "shell.execute_reply": "2021-09-03T18:47:48.204842Z",
     "shell.execute_reply.started": "2021-09-03T18:03:37.805922Z"
    },
    "papermill": {
     "duration": 0.470217,
     "end_time": "2021-09-03T18:47:48.205100",
     "exception": false,
     "start_time": "2021-09-03T18:47:47.734883",
     "status": "completed"
    },
    "tags": []
   },
   "outputs": [
    {
     "name": "stdout",
     "output_type": "stream",
     "text": [
      "[0.82022472 0.80898876 0.80337079 0.82022472 0.85310734]\n",
      "0.8211832666793626\n"
     ]
    }
   ],
   "source": [
    "lr = LogisticRegression(max_iter = 2000)\n",
    "cv = cross_val_score(lr,X_train,y_train,cv = 5)\n",
    "print(cv)\n",
    "print(cv.mean())"
   ]
  },
  {
   "cell_type": "code",
   "execution_count": 44,
   "id": "1e21ca38",
   "metadata": {
    "execution": {
     "iopub.execute_input": "2021-09-03T18:47:48.398839Z",
     "iopub.status.busy": "2021-09-03T18:47:48.398040Z",
     "iopub.status.idle": "2021-09-03T18:47:48.441416Z",
     "shell.execute_reply": "2021-09-03T18:47:48.440945Z",
     "shell.execute_reply.started": "2021-09-03T18:03:38.187365Z"
    },
    "papermill": {
     "duration": 0.112659,
     "end_time": "2021-09-03T18:47:48.441543",
     "exception": false,
     "start_time": "2021-09-03T18:47:48.328884",
     "status": "completed"
    },
    "tags": []
   },
   "outputs": [
    {
     "name": "stdout",
     "output_type": "stream",
     "text": [
      "[0.75280899 0.74157303 0.85393258 0.76404494 0.83615819]\n",
      "0.7897035485304386\n"
     ]
    }
   ],
   "source": [
    "dt = tree.DecisionTreeClassifier(random_state = 1)\n",
    "cv = cross_val_score(dt,X_train,y_train,cv = 5)\n",
    "print(cv)\n",
    "print(cv.mean())"
   ]
  },
  {
   "cell_type": "code",
   "execution_count": 45,
   "id": "d63f12a2",
   "metadata": {
    "execution": {
     "iopub.execute_input": "2021-09-03T18:47:48.578380Z",
     "iopub.status.busy": "2021-09-03T18:47:48.577584Z",
     "iopub.status.idle": "2021-09-03T18:47:48.672946Z",
     "shell.execute_reply": "2021-09-03T18:47:48.672469Z",
     "shell.execute_reply.started": "2021-09-03T18:03:38.257869Z"
    },
    "papermill": {
     "duration": 0.163831,
     "end_time": "2021-09-03T18:47:48.673083",
     "exception": false,
     "start_time": "2021-09-03T18:47:48.509252",
     "status": "completed"
    },
    "tags": []
   },
   "outputs": [
    {
     "name": "stdout",
     "output_type": "stream",
     "text": [
      "[0.79775281 0.79213483 0.83146067 0.80337079 0.85310734]\n",
      "0.8155652891512728\n"
     ]
    }
   ],
   "source": [
    "knn = KNeighborsClassifier()\n",
    "cv = cross_val_score(knn, X_train,y_train,cv = 5)\n",
    "print(cv)\n",
    "print(cv.mean())"
   ]
  },
  {
   "cell_type": "code",
   "execution_count": 46,
   "id": "a80f2a56",
   "metadata": {
    "execution": {
     "iopub.execute_input": "2021-09-03T18:47:48.809093Z",
     "iopub.status.busy": "2021-09-03T18:47:48.808340Z",
     "iopub.status.idle": "2021-09-03T18:47:49.849741Z",
     "shell.execute_reply": "2021-09-03T18:47:49.849316Z",
     "shell.execute_reply.started": "2021-09-03T18:03:38.376823Z"
    },
    "papermill": {
     "duration": 1.110741,
     "end_time": "2021-09-03T18:47:49.849863",
     "exception": false,
     "start_time": "2021-09-03T18:47:48.739122",
     "status": "completed"
    },
    "tags": []
   },
   "outputs": [
    {
     "name": "stdout",
     "output_type": "stream",
     "text": [
      "[0.83146067 0.78651685 0.85393258 0.73033708 0.84180791]\n",
      "0.8088110201231512\n"
     ]
    }
   ],
   "source": [
    "rf = RandomForestClassifier(random_state = 1)\n",
    "cv = cross_val_score(rf,X_train,y_train, cv =5)\n",
    "print(cv)\n",
    "print(cv.mean())"
   ]
  },
  {
   "cell_type": "code",
   "execution_count": 47,
   "id": "2fa1177b",
   "metadata": {
    "execution": {
     "iopub.execute_input": "2021-09-03T18:47:50.000196Z",
     "iopub.status.busy": "2021-09-03T18:47:49.999365Z",
     "iopub.status.idle": "2021-09-03T18:47:50.655894Z",
     "shell.execute_reply": "2021-09-03T18:47:50.655150Z",
     "shell.execute_reply.started": "2021-09-03T18:03:39.412177Z"
    },
    "papermill": {
     "duration": 0.732668,
     "end_time": "2021-09-03T18:47:50.656092",
     "exception": false,
     "start_time": "2021-09-03T18:47:49.923424",
     "status": "completed"
    },
    "tags": []
   },
   "outputs": [
    {
     "name": "stdout",
     "output_type": "stream",
     "text": [
      "[0.84831461 0.82022472 0.8258427  0.80337079 0.86440678]\n",
      "0.8324319177299563\n"
     ]
    }
   ],
   "source": [
    "# enable probability estimates\n",
    "svc = SVC(probability = True)\n",
    "cv = cross_val_score(svc, X_train, y_train, cv =5)\n",
    "print(cv)\n",
    "print(cv.mean())"
   ]
  },
  {
   "cell_type": "code",
   "execution_count": 48,
   "id": "4d8782b5",
   "metadata": {
    "execution": {
     "iopub.execute_input": "2021-09-03T18:47:50.792288Z",
     "iopub.status.busy": "2021-09-03T18:47:50.791757Z",
     "iopub.status.idle": "2021-09-03T18:47:50.863232Z",
     "shell.execute_reply": "2021-09-03T18:47:50.862768Z",
     "shell.execute_reply.started": "2021-09-03T18:03:40.231916Z"
    },
    "papermill": {
     "duration": 0.138405,
     "end_time": "2021-09-03T18:47:50.863366",
     "exception": false,
     "start_time": "2021-09-03T18:47:50.724961",
     "status": "completed"
    },
    "tags": []
   },
   "outputs": [],
   "source": [
    "from xgboost import XGBClassifier"
   ]
  },
  {
   "cell_type": "code",
   "execution_count": 49,
   "id": "66e477cd",
   "metadata": {
    "execution": {
     "iopub.execute_input": "2021-09-03T18:47:50.998048Z",
     "iopub.status.busy": "2021-09-03T18:47:50.997296Z",
     "iopub.status.idle": "2021-09-03T18:47:54.519448Z",
     "shell.execute_reply": "2021-09-03T18:47:54.520292Z",
     "shell.execute_reply.started": "2021-09-03T18:03:40.324977Z"
    },
    "papermill": {
     "duration": 3.592894,
     "end_time": "2021-09-03T18:47:54.520477",
     "exception": false,
     "start_time": "2021-09-03T18:47:50.927583",
     "status": "completed"
    },
    "tags": []
   },
   "outputs": [
    {
     "name": "stderr",
     "output_type": "stream",
     "text": [
      "/opt/conda/lib/python3.7/site-packages/xgboost/sklearn.py:1146: UserWarning: The use of label encoder in XGBClassifier is deprecated and will be removed in a future release. To remove this warning, do the following: 1) Pass option use_label_encoder=False when constructing XGBClassifier object; and 2) Encode your labels (y) as integers starting with 0, i.e. 0, 1, 2, ..., [num_class - 1].\n",
      "  warnings.warn(label_encoder_deprecation_msg, UserWarning)\n"
     ]
    },
    {
     "name": "stdout",
     "output_type": "stream",
     "text": [
      "[18:47:53] WARNING: ../src/learner.cc:1095: Starting in XGBoost 1.3.0, the default evaluation metric used with the objective 'binary:logistic' was changed from 'error' to 'logloss'. Explicitly set eval_metric if you'd like to restore the old behavior.\n",
      "[18:47:53] WARNING: ../src/learner.cc:1095: Starting in XGBoost 1.3.0, the default evaluation metric used with the objective 'binary:logistic' was changed from 'error' to 'logloss'. Explicitly set eval_metric if you'd like to restore the old behavior.\n",
      "[18:47:54] WARNING: ../src/learner.cc:1095: Starting in XGBoost 1.3.0, the default evaluation metric used with the objective 'binary:logistic' was changed from 'error' to 'logloss'. Explicitly set eval_metric if you'd like to restore the old behavior.\n",
      "[18:47:54] WARNING: ../src/learner.cc:1095: Starting in XGBoost 1.3.0, the default evaluation metric used with the objective 'binary:logistic' was changed from 'error' to 'logloss'. Explicitly set eval_metric if you'd like to restore the old behavior.\n",
      "[18:47:54] WARNING: ../src/learner.cc:1095: Starting in XGBoost 1.3.0, the default evaluation metric used with the objective 'binary:logistic' was changed from 'error' to 'logloss'. Explicitly set eval_metric if you'd like to restore the old behavior.\n",
      "[0.8258427  0.80898876 0.84831461 0.78651685 0.81920904]\n",
      "0.8177743921792675\n"
     ]
    }
   ],
   "source": [
    "xgb = XGBClassifier(random_state = 1)\n",
    "cv = cross_val_score(xgb,X_train,y_train,cv =5)\n",
    "print(cv)\n",
    "print(cv.mean())"
   ]
  },
  {
   "cell_type": "code",
   "execution_count": 50,
   "id": "50e512b3",
   "metadata": {
    "execution": {
     "iopub.execute_input": "2021-09-03T18:47:54.661525Z",
     "iopub.status.busy": "2021-09-03T18:47:54.660613Z",
     "iopub.status.idle": "2021-09-03T18:47:54.662902Z",
     "shell.execute_reply": "2021-09-03T18:47:54.663317Z",
     "shell.execute_reply.started": "2021-09-03T18:03:43.965606Z"
    },
    "papermill": {
     "duration": 0.073127,
     "end_time": "2021-09-03T18:47:54.663453",
     "exception": false,
     "start_time": "2021-09-03T18:47:54.590326",
     "status": "completed"
    },
    "tags": []
   },
   "outputs": [],
   "source": [
    "from sklearn.ensemble import VotingClassifier\n",
    "voting_clf = VotingClassifier(estimators = [('lr',lr),('knn',knn),('rf',rf),('gnb',gnb),('svc',svc),('xgb',xgb)],voting = 'soft')"
   ]
  },
  {
   "cell_type": "code",
   "execution_count": 51,
   "id": "f4d7253d",
   "metadata": {
    "execution": {
     "iopub.execute_input": "2021-09-03T18:47:54.799631Z",
     "iopub.status.busy": "2021-09-03T18:47:54.798813Z",
     "iopub.status.idle": "2021-09-03T18:47:57.837221Z",
     "shell.execute_reply": "2021-09-03T18:47:57.837868Z",
     "shell.execute_reply.started": "2021-09-03T18:03:43.973342Z"
    },
    "papermill": {
     "duration": 3.109487,
     "end_time": "2021-09-03T18:47:57.838124",
     "exception": false,
     "start_time": "2021-09-03T18:47:54.728637",
     "status": "completed"
    },
    "tags": []
   },
   "outputs": [
    {
     "name": "stderr",
     "output_type": "stream",
     "text": [
      "/opt/conda/lib/python3.7/site-packages/xgboost/sklearn.py:1146: UserWarning: The use of label encoder in XGBClassifier is deprecated and will be removed in a future release. To remove this warning, do the following: 1) Pass option use_label_encoder=False when constructing XGBClassifier object; and 2) Encode your labels (y) as integers starting with 0, i.e. 0, 1, 2, ..., [num_class - 1].\n",
      "  warnings.warn(label_encoder_deprecation_msg, UserWarning)\n"
     ]
    },
    {
     "name": "stdout",
     "output_type": "stream",
     "text": [
      "[18:47:55] WARNING: ../src/learner.cc:1095: Starting in XGBoost 1.3.0, the default evaluation metric used with the objective 'binary:logistic' was changed from 'error' to 'logloss'. Explicitly set eval_metric if you'd like to restore the old behavior.\n"
     ]
    },
    {
     "name": "stderr",
     "output_type": "stream",
     "text": [
      "/opt/conda/lib/python3.7/site-packages/xgboost/sklearn.py:1146: UserWarning: The use of label encoder in XGBClassifier is deprecated and will be removed in a future release. To remove this warning, do the following: 1) Pass option use_label_encoder=False when constructing XGBClassifier object; and 2) Encode your labels (y) as integers starting with 0, i.e. 0, 1, 2, ..., [num_class - 1].\n",
      "  warnings.warn(label_encoder_deprecation_msg, UserWarning)\n"
     ]
    },
    {
     "name": "stdout",
     "output_type": "stream",
     "text": [
      "[18:47:55] WARNING: ../src/learner.cc:1095: Starting in XGBoost 1.3.0, the default evaluation metric used with the objective 'binary:logistic' was changed from 'error' to 'logloss'. Explicitly set eval_metric if you'd like to restore the old behavior.\n"
     ]
    },
    {
     "name": "stderr",
     "output_type": "stream",
     "text": [
      "/opt/conda/lib/python3.7/site-packages/xgboost/sklearn.py:1146: UserWarning: The use of label encoder in XGBClassifier is deprecated and will be removed in a future release. To remove this warning, do the following: 1) Pass option use_label_encoder=False when constructing XGBClassifier object; and 2) Encode your labels (y) as integers starting with 0, i.e. 0, 1, 2, ..., [num_class - 1].\n",
      "  warnings.warn(label_encoder_deprecation_msg, UserWarning)\n"
     ]
    },
    {
     "name": "stdout",
     "output_type": "stream",
     "text": [
      "[18:47:56] WARNING: ../src/learner.cc:1095: Starting in XGBoost 1.3.0, the default evaluation metric used with the objective 'binary:logistic' was changed from 'error' to 'logloss'. Explicitly set eval_metric if you'd like to restore the old behavior.\n"
     ]
    },
    {
     "name": "stderr",
     "output_type": "stream",
     "text": [
      "/opt/conda/lib/python3.7/site-packages/xgboost/sklearn.py:1146: UserWarning: The use of label encoder in XGBClassifier is deprecated and will be removed in a future release. To remove this warning, do the following: 1) Pass option use_label_encoder=False when constructing XGBClassifier object; and 2) Encode your labels (y) as integers starting with 0, i.e. 0, 1, 2, ..., [num_class - 1].\n",
      "  warnings.warn(label_encoder_deprecation_msg, UserWarning)\n"
     ]
    },
    {
     "name": "stdout",
     "output_type": "stream",
     "text": [
      "[18:47:57] WARNING: ../src/learner.cc:1095: Starting in XGBoost 1.3.0, the default evaluation metric used with the objective 'binary:logistic' was changed from 'error' to 'logloss'. Explicitly set eval_metric if you'd like to restore the old behavior.\n",
      "[18:47:57] WARNING: ../src/learner.cc:1095: Starting in XGBoost 1.3.0, the default evaluation metric used with the objective 'binary:logistic' was changed from 'error' to 'logloss'. Explicitly set eval_metric if you'd like to restore the old behavior.\n",
      "[0.83146067 0.81460674 0.83146067 0.80898876 0.85310734]\n",
      "0.8279248397130706\n"
     ]
    },
    {
     "name": "stderr",
     "output_type": "stream",
     "text": [
      "/opt/conda/lib/python3.7/site-packages/xgboost/sklearn.py:1146: UserWarning: The use of label encoder in XGBClassifier is deprecated and will be removed in a future release. To remove this warning, do the following: 1) Pass option use_label_encoder=False when constructing XGBClassifier object; and 2) Encode your labels (y) as integers starting with 0, i.e. 0, 1, 2, ..., [num_class - 1].\n",
      "  warnings.warn(label_encoder_deprecation_msg, UserWarning)\n"
     ]
    }
   ],
   "source": [
    "cv = cross_val_score(voting_clf,X_train,y_train,cv= 5)\n",
    "print(cv)\n",
    "print(cv.mean())"
   ]
  },
  {
   "cell_type": "code",
   "execution_count": 52,
   "id": "f9549276",
   "metadata": {
    "execution": {
     "iopub.execute_input": "2021-09-03T18:47:57.985796Z",
     "iopub.status.busy": "2021-09-03T18:47:57.985025Z",
     "iopub.status.idle": "2021-09-03T18:47:57.987739Z",
     "shell.execute_reply": "2021-09-03T18:47:57.988149Z",
     "shell.execute_reply.started": "2021-09-03T18:03:46.955700Z"
    },
    "papermill": {
     "duration": 0.076418,
     "end_time": "2021-09-03T18:47:57.988278",
     "exception": false,
     "start_time": "2021-09-03T18:47:57.911860",
     "status": "completed"
    },
    "tags": []
   },
   "outputs": [
    {
     "data": {
      "text/plain": [
       "array([0.83146067, 0.81460674, 0.83146067, 0.80898876, 0.85310734])"
      ]
     },
     "execution_count": 52,
     "metadata": {},
     "output_type": "execute_result"
    }
   ],
   "source": [
    "cv"
   ]
  },
  {
   "cell_type": "code",
   "execution_count": 53,
   "id": "830639a5",
   "metadata": {
    "execution": {
     "iopub.execute_input": "2021-09-03T18:47:58.132567Z",
     "iopub.status.busy": "2021-09-03T18:47:58.131792Z",
     "iopub.status.idle": "2021-09-03T18:47:58.136590Z",
     "shell.execute_reply": "2021-09-03T18:47:58.136140Z",
     "shell.execute_reply.started": "2021-09-03T18:03:46.964494Z"
    },
    "papermill": {
     "duration": 0.078392,
     "end_time": "2021-09-03T18:47:58.136709",
     "exception": false,
     "start_time": "2021-09-03T18:47:58.058317",
     "status": "completed"
    },
    "tags": []
   },
   "outputs": [
    {
     "data": {
      "text/plain": [
       "0.8279248397130706"
      ]
     },
     "execution_count": 53,
     "metadata": {},
     "output_type": "execute_result"
    }
   ],
   "source": [
    "cv.mean()"
   ]
  },
  {
   "cell_type": "code",
   "execution_count": 54,
   "id": "306f3096",
   "metadata": {
    "execution": {
     "iopub.execute_input": "2021-09-03T18:47:58.279157Z",
     "iopub.status.busy": "2021-09-03T18:47:58.278394Z",
     "iopub.status.idle": "2021-09-03T18:47:58.963146Z",
     "shell.execute_reply": "2021-09-03T18:47:58.963542Z",
     "shell.execute_reply.started": "2021-09-03T18:03:46.976033Z"
    },
    "papermill": {
     "duration": 0.757651,
     "end_time": "2021-09-03T18:47:58.963681",
     "exception": false,
     "start_time": "2021-09-03T18:47:58.206030",
     "status": "completed"
    },
    "tags": []
   },
   "outputs": [
    {
     "name": "stdout",
     "output_type": "stream",
     "text": [
      "[18:47:58] WARNING: ../src/learner.cc:1095: Starting in XGBoost 1.3.0, the default evaluation metric used with the objective 'binary:logistic' was changed from 'error' to 'logloss'. Explicitly set eval_metric if you'd like to restore the old behavior.\n"
     ]
    },
    {
     "name": "stderr",
     "output_type": "stream",
     "text": [
      "/opt/conda/lib/python3.7/site-packages/xgboost/sklearn.py:1146: UserWarning: The use of label encoder in XGBClassifier is deprecated and will be removed in a future release. To remove this warning, do the following: 1) Pass option use_label_encoder=False when constructing XGBClassifier object; and 2) Encode your labels (y) as integers starting with 0, i.e. 0, 1, 2, ..., [num_class - 1].\n",
      "  warnings.warn(label_encoder_deprecation_msg, UserWarning)\n"
     ]
    },
    {
     "data": {
      "text/plain": [
       "VotingClassifier(estimators=[('lr', LogisticRegression(max_iter=2000)),\n",
       "                             ('knn', KNeighborsClassifier()),\n",
       "                             ('rf', RandomForestClassifier(random_state=1)),\n",
       "                             ('gnb', GaussianNB()),\n",
       "                             ('svc', SVC(probability=True)),\n",
       "                             ('xgb',\n",
       "                              XGBClassifier(base_score=None, booster=None,\n",
       "                                            colsample_bylevel=None,\n",
       "                                            colsample_bynode=None,\n",
       "                                            colsample_bytree=None, gamma=None,\n",
       "                                            gpu_id=None, importance_t...\n",
       "                                            interaction_constraints=None,\n",
       "                                            learning_rate=None,\n",
       "                                            max_delta_step=None, max_depth=None,\n",
       "                                            min_child_weight=None, missing=nan,\n",
       "                                            monotone_constraints=None,\n",
       "                                            n_estimators=100, n_jobs=None,\n",
       "                                            num_parallel_tree=None,\n",
       "                                            random_state=1, reg_alpha=None,\n",
       "                                            reg_lambda=None,\n",
       "                                            scale_pos_weight=None,\n",
       "                                            subsample=None, tree_method=None,\n",
       "                                            validate_parameters=None,\n",
       "                                            verbosity=None))],\n",
       "                 voting='soft')"
      ]
     },
     "execution_count": 54,
     "metadata": {},
     "output_type": "execute_result"
    }
   ],
   "source": [
    "voting_clf.fit(X_train, y_train)"
   ]
  },
  {
   "cell_type": "code",
   "execution_count": 55,
   "id": "b65f147e",
   "metadata": {
    "execution": {
     "iopub.execute_input": "2021-09-03T18:47:59.114878Z",
     "iopub.status.busy": "2021-09-03T18:47:59.114149Z",
     "iopub.status.idle": "2021-09-03T18:47:59.234435Z",
     "shell.execute_reply": "2021-09-03T18:47:59.235026Z",
     "shell.execute_reply.started": "2021-09-03T18:03:47.843857Z"
    },
    "papermill": {
     "duration": 0.200994,
     "end_time": "2021-09-03T18:47:59.235218",
     "exception": false,
     "start_time": "2021-09-03T18:47:59.034224",
     "status": "completed"
    },
    "tags": []
   },
   "outputs": [],
   "source": [
    "y_hat = voting_clf.predict(X_test)"
   ]
  },
  {
   "cell_type": "code",
   "execution_count": 56,
   "id": "a7942f2d",
   "metadata": {
    "execution": {
     "iopub.execute_input": "2021-09-03T18:47:59.384179Z",
     "iopub.status.busy": "2021-09-03T18:47:59.383378Z",
     "iopub.status.idle": "2021-09-03T18:47:59.385817Z",
     "shell.execute_reply": "2021-09-03T18:47:59.386200Z",
     "shell.execute_reply.started": "2021-09-03T18:03:47.943200Z"
    },
    "papermill": {
     "duration": 0.077115,
     "end_time": "2021-09-03T18:47:59.386336",
     "exception": false,
     "start_time": "2021-09-03T18:47:59.309221",
     "status": "completed"
    },
    "tags": []
   },
   "outputs": [],
   "source": [
    "y_hat=y_hat.astype(int)"
   ]
  },
  {
   "cell_type": "code",
   "execution_count": 57,
   "id": "d00b458a",
   "metadata": {
    "execution": {
     "iopub.execute_input": "2021-09-03T18:47:59.532192Z",
     "iopub.status.busy": "2021-09-03T18:47:59.531419Z",
     "iopub.status.idle": "2021-09-03T18:47:59.533771Z",
     "shell.execute_reply": "2021-09-03T18:47:59.534166Z",
     "shell.execute_reply.started": "2021-09-03T18:03:47.954426Z"
    },
    "papermill": {
     "duration": 0.077251,
     "end_time": "2021-09-03T18:47:59.534302",
     "exception": false,
     "start_time": "2021-09-03T18:47:59.457051",
     "status": "completed"
    },
    "tags": []
   },
   "outputs": [],
   "source": [
    "base_submission = {'PassengerID': test.PassengerId, 'Survived':y_hat}"
   ]
  },
  {
   "cell_type": "code",
   "execution_count": 58,
   "id": "421a0dad",
   "metadata": {
    "execution": {
     "iopub.execute_input": "2021-09-03T18:47:59.678829Z",
     "iopub.status.busy": "2021-09-03T18:47:59.678284Z",
     "iopub.status.idle": "2021-09-03T18:47:59.684583Z",
     "shell.execute_reply": "2021-09-03T18:47:59.684176Z",
     "shell.execute_reply.started": "2021-09-03T18:03:47.967656Z"
    },
    "papermill": {
     "duration": 0.079822,
     "end_time": "2021-09-03T18:47:59.684703",
     "exception": false,
     "start_time": "2021-09-03T18:47:59.604881",
     "status": "completed"
    },
    "tags": []
   },
   "outputs": [],
   "source": [
    "submission_1 = pd.DataFrame(data = base_submission)\n",
    "submission_1.to_csv('submission.csv',index = False)"
   ]
  },
  {
   "cell_type": "code",
   "execution_count": 59,
   "id": "13b13533",
   "metadata": {
    "execution": {
     "iopub.execute_input": "2021-09-03T18:47:59.829328Z",
     "iopub.status.busy": "2021-09-03T18:47:59.828556Z",
     "iopub.status.idle": "2021-09-03T18:47:59.831316Z",
     "shell.execute_reply": "2021-09-03T18:47:59.830895Z",
     "shell.execute_reply.started": "2021-09-03T18:03:47.983381Z"
    },
    "papermill": {
     "duration": 0.075907,
     "end_time": "2021-09-03T18:47:59.831431",
     "exception": false,
     "start_time": "2021-09-03T18:47:59.755524",
     "status": "completed"
    },
    "tags": []
   },
   "outputs": [],
   "source": [
    "from sklearn.model_selection import GridSearchCV, RandomizedSearchCV"
   ]
  },
  {
   "cell_type": "code",
   "execution_count": 60,
   "id": "6e7d7511",
   "metadata": {
    "execution": {
     "iopub.execute_input": "2021-09-03T18:47:59.984706Z",
     "iopub.status.busy": "2021-09-03T18:47:59.983904Z",
     "iopub.status.idle": "2021-09-03T18:47:59.986579Z",
     "shell.execute_reply": "2021-09-03T18:47:59.986183Z",
     "shell.execute_reply.started": "2021-09-03T18:03:47.988675Z"
    },
    "papermill": {
     "duration": 0.085198,
     "end_time": "2021-09-03T18:47:59.986699",
     "exception": false,
     "start_time": "2021-09-03T18:47:59.901501",
     "status": "completed"
    },
    "tags": []
   },
   "outputs": [],
   "source": [
    "def clf_performance(classifier, model):\n",
    "    print(model)\n",
    "    print('Best Score: '+ str(classifier.best_score_))\n",
    "    print('Best Score: '+ str(classifier.best_params_))"
   ]
  },
  {
   "cell_type": "code",
   "execution_count": 61,
   "id": "1a88c6c9",
   "metadata": {
    "execution": {
     "iopub.execute_input": "2021-09-03T18:48:00.133539Z",
     "iopub.status.busy": "2021-09-03T18:48:00.132694Z",
     "iopub.status.idle": "2021-09-03T18:48:05.588951Z",
     "shell.execute_reply": "2021-09-03T18:48:05.589371Z",
     "shell.execute_reply.started": "2021-09-03T18:03:47.997413Z"
    },
    "papermill": {
     "duration": 5.532425,
     "end_time": "2021-09-03T18:48:05.589619",
     "exception": false,
     "start_time": "2021-09-03T18:48:00.057194",
     "status": "completed"
    },
    "tags": []
   },
   "outputs": [
    {
     "name": "stdout",
     "output_type": "stream",
     "text": [
      "Fitting 5 folds for each of 40 candidates, totalling 200 fits\n"
     ]
    },
    {
     "name": "stderr",
     "output_type": "stream",
     "text": [
      "[Parallel(n_jobs=-1)]: Using backend LokyBackend with 2 concurrent workers.\n",
      "[Parallel(n_jobs=-1)]: Done 180 tasks      | elapsed:    4.8s\n"
     ]
    },
    {
     "name": "stdout",
     "output_type": "stream",
     "text": [
      "Logistic Regression\n",
      "Best Score: 0.8268075922046594\n",
      "Best Score: {'C': 1.623776739188721, 'max_iter': 2000, 'penalty': 'l1', 'solver': 'liblinear'}\n"
     ]
    },
    {
     "name": "stderr",
     "output_type": "stream",
     "text": [
      "[Parallel(n_jobs=-1)]: Done 200 out of 200 | elapsed:    5.4s finished\n"
     ]
    }
   ],
   "source": [
    "lr = LogisticRegression()\n",
    "param_grid = {'max_iter':[2000],\n",
    "              'penalty': ['l1','l2'],\n",
    "              'C': np.logspace(-4,4,20),\n",
    "              'solver':['liblinear']\n",
    "             }\n",
    "clf_lr = GridSearchCV(lr, param_grid = param_grid, cv = 5,verbose = True, n_jobs = -1)\n",
    "best_clf_lr = clf_lr.fit(X_train,y_train)\n",
    "clf_performance(best_clf_lr,'Logistic Regression')"
   ]
  },
  {
   "cell_type": "code",
   "execution_count": 62,
   "id": "564699a0",
   "metadata": {
    "execution": {
     "iopub.execute_input": "2021-09-03T18:48:05.738606Z",
     "iopub.status.busy": "2021-09-03T18:48:05.737778Z",
     "iopub.status.idle": "2021-09-03T18:48:10.459844Z",
     "shell.execute_reply": "2021-09-03T18:48:10.460278Z",
     "shell.execute_reply.started": "2021-09-03T18:03:53.330124Z"
    },
    "papermill": {
     "duration": 4.800023,
     "end_time": "2021-09-03T18:48:10.460527",
     "exception": false,
     "start_time": "2021-09-03T18:48:05.660504",
     "status": "completed"
    },
    "tags": []
   },
   "outputs": [
    {
     "name": "stderr",
     "output_type": "stream",
     "text": [
      "[Parallel(n_jobs=-1)]: Using backend LokyBackend with 2 concurrent workers.\n"
     ]
    },
    {
     "name": "stdout",
     "output_type": "stream",
     "text": [
      "Fitting 5 folds for each of 64 candidates, totalling 320 fits\n"
     ]
    },
    {
     "name": "stderr",
     "output_type": "stream",
     "text": [
      "[Parallel(n_jobs=-1)]: Done 300 tasks      | elapsed:    4.5s\n"
     ]
    },
    {
     "name": "stdout",
     "output_type": "stream",
     "text": [
      "KNN\n",
      "Best Score: 0.8301720307243065\n",
      "Best Score: {'algorithm': 'auto', 'n_neighbors': 7, 'p': 2, 'weights': 'uniform'}\n"
     ]
    },
    {
     "name": "stderr",
     "output_type": "stream",
     "text": [
      "[Parallel(n_jobs=-1)]: Done 320 out of 320 | elapsed:    4.7s finished\n"
     ]
    }
   ],
   "source": [
    "knn = KNeighborsClassifier()\n",
    "param_grid = {'n_neighbors' : [3,5,7,9],\n",
    "             'weights':['uniform','distance'],\n",
    "             'algorithm':['auto', 'ball_tree', 'kd_tree', 'brute'],\n",
    "             'p':[1,2]}\n",
    "clf_knn = GridSearchCV(knn, param_grid = param_grid,cv =5, verbose= True, n_jobs = -1)\n",
    "best_clf_knn = clf_knn.fit(X_train,y_train)\n",
    "clf_performance(best_clf_knn,'KNN')"
   ]
  },
  {
   "cell_type": "code",
   "execution_count": 63,
   "id": "76e01966",
   "metadata": {
    "execution": {
     "iopub.execute_input": "2021-09-03T18:48:10.656850Z",
     "iopub.status.busy": "2021-09-03T18:48:10.655792Z",
     "iopub.status.idle": "2021-09-03T18:56:52.875016Z",
     "shell.execute_reply": "2021-09-03T18:56:52.876011Z",
     "shell.execute_reply.started": "2021-09-03T18:03:57.248916Z"
    },
    "papermill": {
     "duration": 522.339758,
     "end_time": "2021-09-03T18:56:52.876249",
     "exception": false,
     "start_time": "2021-09-03T18:48:10.536491",
     "status": "completed"
    },
    "tags": []
   },
   "outputs": [
    {
     "name": "stdout",
     "output_type": "stream",
     "text": [
      "Fitting 5 folds for each of 243 candidates, totalling 1215 fits\n"
     ]
    },
    {
     "name": "stderr",
     "output_type": "stream",
     "text": [
      "[Parallel(n_jobs=-1)]: Using backend LokyBackend with 2 concurrent workers.\n",
      "/opt/conda/lib/python3.7/site-packages/joblib/externals/loky/process_executor.py:691: UserWarning: A worker stopped while some jobs were given to the executor. This can be caused by a too short worker timeout or by a memory leak.\n",
      "  \"timeout or by a memory leak.\", UserWarning\n",
      "[Parallel(n_jobs=-1)]: Done  46 tasks      | elapsed:   29.5s\n",
      "[Parallel(n_jobs=-1)]: Done 196 tasks      | elapsed:  1.6min\n",
      "[Parallel(n_jobs=-1)]: Done 446 tasks      | elapsed:  3.3min\n",
      "[Parallel(n_jobs=-1)]: Done 796 tasks      | elapsed:  5.7min\n",
      "[Parallel(n_jobs=-1)]: Done 1215 out of 1215 | elapsed:  8.7min finished\n",
      "/opt/conda/lib/python3.7/site-packages/xgboost/sklearn.py:1146: UserWarning: The use of label encoder in XGBClassifier is deprecated and will be removed in a future release. To remove this warning, do the following: 1) Pass option use_label_encoder=False when constructing XGBClassifier object; and 2) Encode your labels (y) as integers starting with 0, i.e. 0, 1, 2, ..., [num_class - 1].\n",
      "  warnings.warn(label_encoder_deprecation_msg, UserWarning)\n"
     ]
    },
    {
     "name": "stdout",
     "output_type": "stream",
     "text": [
      "[18:56:51] WARNING: ../src/learner.cc:1095: Starting in XGBoost 1.3.0, the default evaluation metric used with the objective 'binary:logistic' was changed from 'error' to 'logloss'. Explicitly set eval_metric if you'd like to restore the old behavior.\n",
      "XGB\n",
      "Best Score: 0.854891131847902\n",
      "Best Score: {'colsample_bytree': 0.85, 'gamma': 0.5, 'learning_rate': 0.5, 'max_depth': None, 'min_child_weight': 0.01, 'n_estimators': 550, 'reg_alpha': 1, 'reg_lambda': 10, 'sampling_method': 'uniform', 'subsample': 0.55}\n"
     ]
    }
   ],
   "source": [
    "xgb = XGBClassifier(tree_method='gpu_hist',random_state = 1)\n",
    "\n",
    "param_grid = {\n",
    "    'n_estimators': [450,500,550],\n",
    "    'colsample_bytree': [0.75,0.8,0.85],\n",
    "    'max_depth': [None],\n",
    "    'reg_alpha': [1],\n",
    "    'reg_lambda': [2, 5, 10],\n",
    "    'subsample': [0.55, 0.6, .65],\n",
    "    'learning_rate':[0.5],\n",
    "    'gamma':[.5,1,2],\n",
    "    'min_child_weight':[0.01],\n",
    "    'sampling_method': ['uniform']\n",
    "}\n",
    "\n",
    "clf_xgb = GridSearchCV(xgb, param_grid = param_grid, cv = 5, verbose = True, n_jobs = -1)\n",
    "best_clf_xgb = clf_xgb.fit(X_train,y_train)\n",
    "clf_performance(best_clf_xgb,'XGB')"
   ]
  },
  {
   "cell_type": "code",
   "execution_count": 64,
   "id": "6f5a5ce8",
   "metadata": {
    "execution": {
     "iopub.execute_input": "2021-09-03T18:56:53.132602Z",
     "iopub.status.busy": "2021-09-03T18:56:53.131847Z",
     "iopub.status.idle": "2021-09-03T19:14:53.988414Z",
     "shell.execute_reply": "2021-09-03T19:14:53.987929Z",
     "shell.execute_reply.started": "2021-09-03T18:12:41.951473Z"
    },
    "papermill": {
     "duration": 1080.990228,
     "end_time": "2021-09-03T19:14:53.988538",
     "exception": false,
     "start_time": "2021-09-03T18:56:52.998310",
     "status": "completed"
    },
    "tags": []
   },
   "outputs": [
    {
     "name": "stdout",
     "output_type": "stream",
     "text": [
      "Fitting 5 folds for each of 288 candidates, totalling 1440 fits\n"
     ]
    },
    {
     "name": "stderr",
     "output_type": "stream",
     "text": [
      "[Parallel(n_jobs=-1)]: Using backend LokyBackend with 2 concurrent workers.\n",
      "[Parallel(n_jobs=-1)]: Done  46 tasks      | elapsed:   32.9s\n",
      "[Parallel(n_jobs=-1)]: Done 196 tasks      | elapsed:  2.4min\n",
      "[Parallel(n_jobs=-1)]: Done 446 tasks      | elapsed:  5.4min\n",
      "[Parallel(n_jobs=-1)]: Done 796 tasks      | elapsed:  9.8min\n",
      "[Parallel(n_jobs=-1)]: Done 1246 tasks      | elapsed: 15.5min\n",
      "[Parallel(n_jobs=-1)]: Done 1440 out of 1440 | elapsed: 18.0min finished\n"
     ]
    },
    {
     "name": "stdout",
     "output_type": "stream",
     "text": [
      "Random Forest\n",
      "Best Score: 0.8335491652383673\n",
      "Best Score: {'bootstrap': True, 'criterion': 'gini', 'max_depth': 20, 'max_features': 10, 'min_samples_leaf': 2, 'min_samples_split': 2, 'n_estimators': 550}\n"
     ]
    }
   ],
   "source": [
    "rf = RandomForestClassifier(random_state = 1)\n",
    "param_grid = {'n_estimators': [400,450,500,550],\n",
    "              'criterion':['gini','entropy'],\n",
    "                                  'bootstrap': [True],\n",
    "                                  'max_depth': [15, 20, 25],\n",
    "                                  'max_features': ['auto','sqrt', 10],\n",
    "                                  'min_samples_leaf': [2,3],\n",
    "                                  'min_samples_split': [2,3]}\n",
    "clf_rf = GridSearchCV(rf, param_grid = param_grid, cv = 5, verbose = True, n_jobs = -1)\n",
    "best_clf_rf = clf_rf.fit(X_train,y_train)\n",
    "clf_performance(best_clf_rf,'Random Forest')"
   ]
  },
  {
   "cell_type": "code",
   "execution_count": 65,
   "id": "492f3e99",
   "metadata": {
    "execution": {
     "iopub.execute_input": "2021-09-03T19:14:54.148721Z",
     "iopub.status.busy": "2021-09-03T19:14:54.147970Z",
     "iopub.status.idle": "2021-09-03T19:14:55.545820Z",
     "shell.execute_reply": "2021-09-03T19:14:55.545361Z",
     "shell.execute_reply.started": "2021-09-03T18:30:43.608745Z"
    },
    "papermill": {
     "duration": 1.479592,
     "end_time": "2021-09-03T19:14:55.545937",
     "exception": false,
     "start_time": "2021-09-03T19:14:54.066345",
     "status": "completed"
    },
    "tags": []
   },
   "outputs": [
    {
     "data": {
      "text/plain": [
       "<AxesSubplot:>"
      ]
     },
     "execution_count": 65,
     "metadata": {},
     "output_type": "execute_result"
    },
    {
     "data": {
      "image/png": "[encoded data removed]",
      "text/plain": [
       "<Figure size 432x288 with 1 Axes>"
      ]
     },
     "metadata": {
      "needs_background": "light"
     },
     "output_type": "display_data"
    }
   ],
   "source": [
    "best_rf = best_clf_rf.best_estimator_.fit(X_train,y_train)\n",
    "feat_importances = pd.Series(best_rf.feature_importances_, index=X_train.columns)\n",
    "feat_importances.nlargest(20).plot(kind='barh')"
   ]
  },
  {
   "cell_type": "code",
   "execution_count": null,
   "id": "4d322396",
   "metadata": {
    "papermill": {
     "duration": 0.077441,
     "end_time": "2021-09-03T19:14:55.701375",
     "exception": false,
     "start_time": "2021-09-03T19:14:55.623934",
     "status": "completed"
    },
    "tags": []
   },
   "outputs": [],
   "source": []
  },
  {
   "cell_type": "code",
   "execution_count": 66,
   "id": "37262a3e",
   "metadata": {
    "execution": {
     "iopub.execute_input": "2021-09-03T19:14:55.864877Z",
     "iopub.status.busy": "2021-09-03T19:14:55.864344Z",
     "iopub.status.idle": "2021-09-03T19:21:02.295442Z",
     "shell.execute_reply": "2021-09-03T19:21:02.294981Z",
     "shell.execute_reply.started": "2021-09-03T18:30:45.183364Z"
    },
    "papermill": {
     "duration": 366.515627,
     "end_time": "2021-09-03T19:21:02.295553",
     "exception": false,
     "start_time": "2021-09-03T19:14:55.779926",
     "status": "completed"
    },
    "tags": []
   },
   "outputs": [
    {
     "name": "stdout",
     "output_type": "stream",
     "text": [
      "Fitting 5 folds for each of 55 candidates, totalling 275 fits\n"
     ]
    },
    {
     "name": "stderr",
     "output_type": "stream",
     "text": [
      "[Parallel(n_jobs=-1)]: Using backend LokyBackend with 2 concurrent workers.\n",
      "[Parallel(n_jobs=-1)]: Done  88 tasks      | elapsed:   11.0s\n",
      "[Parallel(n_jobs=-1)]: Done 260 tasks      | elapsed:  5.2min\n"
     ]
    },
    {
     "name": "stdout",
     "output_type": "stream",
     "text": [
      "SVC\n",
      "Best Score: 0.8324319177299563\n",
      "Best Score: {'C': 1, 'gamma': 0.1, 'kernel': 'rbf'}\n"
     ]
    },
    {
     "name": "stderr",
     "output_type": "stream",
     "text": [
      "[Parallel(n_jobs=-1)]: Done 275 out of 275 | elapsed:  6.1min finished\n"
     ]
    }
   ],
   "source": [
    "svc = SVC(probability = True)\n",
    "param_grid = tuned_parameters = [{'kernel': ['rbf'], 'gamma': [.1,.5,1,2,5,10],\n",
    "                                  'C': [.1, 1, 10, 100, 1000]},\n",
    "                                 {'kernel': ['linear'], 'C': [.1, 1, 10, 100, 1000]},\n",
    "                                 {'kernel': ['poly'], 'degree' : [2,3,4,5], 'C': [.1, 1, 10, 100, 1000]}]\n",
    "clf_svc = GridSearchCV(svc, param_grid = param_grid, cv = 5, verbose = True, n_jobs = -1)\n",
    "best_clf_svc = clf_svc.fit(X_train,y_train)\n",
    "clf_performance(best_clf_svc,'SVC')"
   ]
  },
  {
   "cell_type": "code",
   "execution_count": 67,
   "id": "7e1fd75f",
   "metadata": {
    "execution": {
     "iopub.execute_input": "2021-09-03T19:21:02.458305Z",
     "iopub.status.busy": "2021-09-03T19:21:02.457526Z",
     "iopub.status.idle": "2021-09-03T19:21:02.466659Z",
     "shell.execute_reply": "2021-09-03T19:21:02.467014Z",
     "shell.execute_reply.started": "2021-09-03T18:36:08.517923Z"
    },
    "papermill": {
     "duration": 0.092812,
     "end_time": "2021-09-03T19:21:02.467199",
     "exception": false,
     "start_time": "2021-09-03T19:21:02.374387",
     "status": "completed"
    },
    "tags": []
   },
   "outputs": [],
   "source": [
    "y_hat_xgb = best_clf_xgb.best_estimator_.predict(X_test).astype(int)\n",
    "xgb_submission = {'PassengerId': test.PassengerId, 'Survived': y_hat_xgb}\n",
    "submission_xgb = pd.DataFrame(data=xgb_submission)\n",
    "submission_xgb.to_csv('xgb_submission3.csv', index=False)"
   ]
  },
  {
   "cell_type": "code",
   "execution_count": 68,
   "id": "b9e9dd8c",
   "metadata": {
    "execution": {
     "iopub.execute_input": "2021-09-03T19:21:02.629961Z",
     "iopub.status.busy": "2021-09-03T19:21:02.629230Z",
     "iopub.status.idle": "2021-09-03T19:21:02.631494Z",
     "shell.execute_reply": "2021-09-03T19:21:02.631863Z",
     "shell.execute_reply.started": "2021-09-03T18:36:08.532080Z"
    },
    "papermill": {
     "duration": 0.08498,
     "end_time": "2021-09-03T19:21:02.631986",
     "exception": false,
     "start_time": "2021-09-03T19:21:02.547006",
     "status": "completed"
    },
    "tags": []
   },
   "outputs": [],
   "source": [
    "best_lr = best_clf_lr.best_estimator_\n",
    "best_knn = best_clf_knn.best_estimator_\n",
    "best_svc = best_clf_svc.best_estimator_\n",
    "best_rf = best_clf_rf.best_estimator_\n",
    "best_xgb = best_clf_xgb.best_estimator_\n"
   ]
  },
  {
   "cell_type": "code",
   "execution_count": 69,
   "id": "a74f06d1",
   "metadata": {
    "execution": {
     "iopub.execute_input": "2021-09-03T19:21:02.798977Z",
     "iopub.status.busy": "2021-09-03T19:21:02.798209Z",
     "iopub.status.idle": "2021-09-03T19:21:58.741349Z",
     "shell.execute_reply": "2021-09-03T19:21:58.741817Z",
     "shell.execute_reply.started": "2021-09-03T18:36:08.544392Z"
    },
    "papermill": {
     "duration": 56.031139,
     "end_time": "2021-09-03T19:21:58.742004",
     "exception": false,
     "start_time": "2021-09-03T19:21:02.710865",
     "status": "completed"
    },
    "tags": []
   },
   "outputs": [
    {
     "name": "stdout",
     "output_type": "stream",
     "text": [
      "voting_clf_hard : [0.83146067 0.81460674 0.84269663 0.81460674 0.8700565 ]\n",
      "voting_clf_hard mean : 0.8346854567383991\n",
      "voting_clf_soft : [0.83146067 0.82022472 0.83707865 0.80898876 0.8700565 ]\n",
      "voting_clf_soft mean : 0.8324382657271631\n",
      "voting_clf_all : [0.83146067 0.8258427  0.83146067 0.79775281 0.8700565 ]\n",
      "voting_clf_all mean : 0.8301910747159271\n"
     ]
    },
    {
     "name": "stderr",
     "output_type": "stream",
     "text": [
      "/opt/conda/lib/python3.7/site-packages/xgboost/sklearn.py:1146: UserWarning: The use of label encoder in XGBClassifier is deprecated and will be removed in a future release. To remove this warning, do the following: 1) Pass option use_label_encoder=False when constructing XGBClassifier object; and 2) Encode your labels (y) as integers starting with 0, i.e. 0, 1, 2, ..., [num_class - 1].\n",
      "  warnings.warn(label_encoder_deprecation_msg, UserWarning)\n"
     ]
    },
    {
     "name": "stdout",
     "output_type": "stream",
     "text": [
      "[19:21:42] WARNING: ../src/learner.cc:1095: Starting in XGBoost 1.3.0, the default evaluation metric used with the objective 'binary:logistic' was changed from 'error' to 'logloss'. Explicitly set eval_metric if you'd like to restore the old behavior.\n"
     ]
    },
    {
     "name": "stderr",
     "output_type": "stream",
     "text": [
      "/opt/conda/lib/python3.7/site-packages/xgboost/sklearn.py:1146: UserWarning: The use of label encoder in XGBClassifier is deprecated and will be removed in a future release. To remove this warning, do the following: 1) Pass option use_label_encoder=False when constructing XGBClassifier object; and 2) Encode your labels (y) as integers starting with 0, i.e. 0, 1, 2, ..., [num_class - 1].\n",
      "  warnings.warn(label_encoder_deprecation_msg, UserWarning)\n"
     ]
    },
    {
     "name": "stdout",
     "output_type": "stream",
     "text": [
      "[19:21:44] WARNING: ../src/learner.cc:1095: Starting in XGBoost 1.3.0, the default evaluation metric used with the objective 'binary:logistic' was changed from 'error' to 'logloss'. Explicitly set eval_metric if you'd like to restore the old behavior.\n"
     ]
    },
    {
     "name": "stderr",
     "output_type": "stream",
     "text": [
      "/opt/conda/lib/python3.7/site-packages/xgboost/sklearn.py:1146: UserWarning: The use of label encoder in XGBClassifier is deprecated and will be removed in a future release. To remove this warning, do the following: 1) Pass option use_label_encoder=False when constructing XGBClassifier object; and 2) Encode your labels (y) as integers starting with 0, i.e. 0, 1, 2, ..., [num_class - 1].\n",
      "  warnings.warn(label_encoder_deprecation_msg, UserWarning)\n"
     ]
    },
    {
     "name": "stdout",
     "output_type": "stream",
     "text": [
      "[19:21:45] WARNING: ../src/learner.cc:1095: Starting in XGBoost 1.3.0, the default evaluation metric used with the objective 'binary:logistic' was changed from 'error' to 'logloss'. Explicitly set eval_metric if you'd like to restore the old behavior.\n"
     ]
    },
    {
     "name": "stderr",
     "output_type": "stream",
     "text": [
      "/opt/conda/lib/python3.7/site-packages/xgboost/sklearn.py:1146: UserWarning: The use of label encoder in XGBClassifier is deprecated and will be removed in a future release. To remove this warning, do the following: 1) Pass option use_label_encoder=False when constructing XGBClassifier object; and 2) Encode your labels (y) as integers starting with 0, i.e. 0, 1, 2, ..., [num_class - 1].\n",
      "  warnings.warn(label_encoder_deprecation_msg, UserWarning)\n"
     ]
    },
    {
     "name": "stdout",
     "output_type": "stream",
     "text": [
      "[19:21:48] WARNING: ../src/learner.cc:1095: Starting in XGBoost 1.3.0, the default evaluation metric used with the objective 'binary:logistic' was changed from 'error' to 'logloss'. Explicitly set eval_metric if you'd like to restore the old behavior.\n"
     ]
    },
    {
     "name": "stderr",
     "output_type": "stream",
     "text": [
      "/opt/conda/lib/python3.7/site-packages/xgboost/sklearn.py:1146: UserWarning: The use of label encoder in XGBClassifier is deprecated and will be removed in a future release. To remove this warning, do the following: 1) Pass option use_label_encoder=False when constructing XGBClassifier object; and 2) Encode your labels (y) as integers starting with 0, i.e. 0, 1, 2, ..., [num_class - 1].\n",
      "  warnings.warn(label_encoder_deprecation_msg, UserWarning)\n"
     ]
    },
    {
     "name": "stdout",
     "output_type": "stream",
     "text": [
      "[19:21:49] WARNING: ../src/learner.cc:1095: Starting in XGBoost 1.3.0, the default evaluation metric used with the objective 'binary:logistic' was changed from 'error' to 'logloss'. Explicitly set eval_metric if you'd like to restore the old behavior.\n",
      "voting_clf_xgb : [0.83707865 0.82022472 0.84831461 0.80898876 0.86440678]\n"
     ]
    },
    {
     "name": "stderr",
     "output_type": "stream",
     "text": [
      "/opt/conda/lib/python3.7/site-packages/xgboost/sklearn.py:1146: UserWarning: The use of label encoder in XGBClassifier is deprecated and will be removed in a future release. To remove this warning, do the following: 1) Pass option use_label_encoder=False when constructing XGBClassifier object; and 2) Encode your labels (y) as integers starting with 0, i.e. 0, 1, 2, ..., [num_class - 1].\n",
      "  warnings.warn(label_encoder_deprecation_msg, UserWarning)\n"
     ]
    },
    {
     "name": "stdout",
     "output_type": "stream",
     "text": [
      "[19:21:51] WARNING: ../src/learner.cc:1095: Starting in XGBoost 1.3.0, the default evaluation metric used with the objective 'binary:logistic' was changed from 'error' to 'logloss'. Explicitly set eval_metric if you'd like to restore the old behavior.\n"
     ]
    },
    {
     "name": "stderr",
     "output_type": "stream",
     "text": [
      "/opt/conda/lib/python3.7/site-packages/xgboost/sklearn.py:1146: UserWarning: The use of label encoder in XGBClassifier is deprecated and will be removed in a future release. To remove this warning, do the following: 1) Pass option use_label_encoder=False when constructing XGBClassifier object; and 2) Encode your labels (y) as integers starting with 0, i.e. 0, 1, 2, ..., [num_class - 1].\n",
      "  warnings.warn(label_encoder_deprecation_msg, UserWarning)\n"
     ]
    },
    {
     "name": "stdout",
     "output_type": "stream",
     "text": [
      "[19:21:53] WARNING: ../src/learner.cc:1095: Starting in XGBoost 1.3.0, the default evaluation metric used with the objective 'binary:logistic' was changed from 'error' to 'logloss'. Explicitly set eval_metric if you'd like to restore the old behavior.\n"
     ]
    },
    {
     "name": "stderr",
     "output_type": "stream",
     "text": [
      "/opt/conda/lib/python3.7/site-packages/xgboost/sklearn.py:1146: UserWarning: The use of label encoder in XGBClassifier is deprecated and will be removed in a future release. To remove this warning, do the following: 1) Pass option use_label_encoder=False when constructing XGBClassifier object; and 2) Encode your labels (y) as integers starting with 0, i.e. 0, 1, 2, ..., [num_class - 1].\n",
      "  warnings.warn(label_encoder_deprecation_msg, UserWarning)\n"
     ]
    },
    {
     "name": "stdout",
     "output_type": "stream",
     "text": [
      "[19:21:54] WARNING: ../src/learner.cc:1095: Starting in XGBoost 1.3.0, the default evaluation metric used with the objective 'binary:logistic' was changed from 'error' to 'logloss'. Explicitly set eval_metric if you'd like to restore the old behavior.\n"
     ]
    },
    {
     "name": "stderr",
     "output_type": "stream",
     "text": [
      "/opt/conda/lib/python3.7/site-packages/xgboost/sklearn.py:1146: UserWarning: The use of label encoder in XGBClassifier is deprecated and will be removed in a future release. To remove this warning, do the following: 1) Pass option use_label_encoder=False when constructing XGBClassifier object; and 2) Encode your labels (y) as integers starting with 0, i.e. 0, 1, 2, ..., [num_class - 1].\n",
      "  warnings.warn(label_encoder_deprecation_msg, UserWarning)\n"
     ]
    },
    {
     "name": "stdout",
     "output_type": "stream",
     "text": [
      "[19:21:56] WARNING: ../src/learner.cc:1095: Starting in XGBoost 1.3.0, the default evaluation metric used with the objective 'binary:logistic' was changed from 'error' to 'logloss'. Explicitly set eval_metric if you'd like to restore the old behavior.\n"
     ]
    },
    {
     "name": "stderr",
     "output_type": "stream",
     "text": [
      "/opt/conda/lib/python3.7/site-packages/xgboost/sklearn.py:1146: UserWarning: The use of label encoder in XGBClassifier is deprecated and will be removed in a future release. To remove this warning, do the following: 1) Pass option use_label_encoder=False when constructing XGBClassifier object; and 2) Encode your labels (y) as integers starting with 0, i.e. 0, 1, 2, ..., [num_class - 1].\n",
      "  warnings.warn(label_encoder_deprecation_msg, UserWarning)\n"
     ]
    },
    {
     "name": "stdout",
     "output_type": "stream",
     "text": [
      "[19:21:58] WARNING: ../src/learner.cc:1095: Starting in XGBoost 1.3.0, the default evaluation metric used with the objective 'binary:logistic' was changed from 'error' to 'logloss'. Explicitly set eval_metric if you'd like to restore the old behavior.\n",
      "voting_clf_xgb mean : 0.8358027042468101\n"
     ]
    }
   ],
   "source": [
    "voting_clf_hard = VotingClassifier(estimators = [('knn',best_knn),('rf',best_rf),('svc',best_svc)], voting = 'hard') \n",
    "voting_clf_soft = VotingClassifier(estimators = [('knn',best_knn),('rf',best_rf),('svc',best_svc)], voting = 'soft') \n",
    "voting_clf_all = VotingClassifier(estimators = [('knn',best_knn),('rf',best_rf),('svc',best_svc), ('lr', best_lr)], voting = 'soft') \n",
    "voting_clf_xgb = VotingClassifier(estimators = [('knn',best_knn),('rf',best_rf),('svc',best_svc), ('xgb', best_xgb),('lr', best_lr)], voting = 'soft')\n",
    "\n",
    "print('voting_clf_hard :',cross_val_score(voting_clf_hard,X_train,y_train,cv=5))\n",
    "print('voting_clf_hard mean :',cross_val_score(voting_clf_hard,X_train,y_train,cv=5).mean())\n",
    "\n",
    "print('voting_clf_soft :',cross_val_score(voting_clf_soft,X_train,y_train,cv=5))\n",
    "print('voting_clf_soft mean :',cross_val_score(voting_clf_soft,X_train,y_train,cv=5).mean())\n",
    "\n",
    "print('voting_clf_all :',cross_val_score(voting_clf_all,X_train,y_train,cv=5))\n",
    "print('voting_clf_all mean :',cross_val_score(voting_clf_all,X_train,y_train,cv=5).mean())\n",
    "\n",
    "print('voting_clf_xgb :',cross_val_score(voting_clf_xgb,X_train,y_train,cv=5))\n",
    "print('voting_clf_xgb mean :',cross_val_score(voting_clf_xgb,X_train,y_train,cv=5).mean())"
   ]
  },
  {
   "cell_type": "code",
   "execution_count": 70,
   "id": "b610ad63",
   "metadata": {
    "execution": {
     "iopub.execute_input": "2021-09-03T19:21:58.926339Z",
     "iopub.status.busy": "2021-09-03T19:21:58.925507Z",
     "iopub.status.idle": "2021-09-03T19:22:35.115496Z",
     "shell.execute_reply": "2021-09-03T19:22:35.115049Z",
     "shell.execute_reply.started": "2021-09-03T18:37:04.276840Z"
    },
    "papermill": {
     "duration": 36.286272,
     "end_time": "2021-09-03T19:22:35.115615",
     "exception": false,
     "start_time": "2021-09-03T19:21:58.829343",
     "status": "completed"
    },
    "tags": []
   },
   "outputs": [
    {
     "name": "stdout",
     "output_type": "stream",
     "text": [
      "Fitting 5 folds for each of 7 candidates, totalling 35 fits\n"
     ]
    },
    {
     "name": "stderr",
     "output_type": "stream",
     "text": [
      "[Parallel(n_jobs=-1)]: Using backend LokyBackend with 2 concurrent workers.\n",
      "[Parallel(n_jobs=-1)]: Done  35 out of  35 | elapsed:   34.7s finished\n"
     ]
    },
    {
     "name": "stdout",
     "output_type": "stream",
     "text": [
      "VC Weights\n",
      "Best Score: 0.8324382657271631\n",
      "Best Score: {'weights': [1, 1, 1]}\n"
     ]
    }
   ],
   "source": [
    "params = {'weights' : [[1,1,1],[1,2,1],[1,1,2],[2,1,1],[2,2,1],[1,2,2],[2,1,2]]}\n",
    "\n",
    "vote_weight = GridSearchCV(voting_clf_soft, param_grid = params, cv = 5, verbose = True, n_jobs = -1)\n",
    "best_clf_weight = vote_weight.fit(X_train,y_train)\n",
    "clf_performance(best_clf_weight,'VC Weights')\n",
    "voting_clf_sub = best_clf_weight.best_estimator_.predict(X_test)"
   ]
  },
  {
   "cell_type": "code",
   "execution_count": 71,
   "id": "c991b0f1",
   "metadata": {
    "execution": {
     "iopub.execute_input": "2021-09-03T19:22:35.296045Z",
     "iopub.status.busy": "2021-09-03T19:22:35.295228Z",
     "iopub.status.idle": "2021-09-03T19:22:42.584873Z",
     "shell.execute_reply": "2021-09-03T19:22:42.585349Z",
     "shell.execute_reply.started": "2021-09-03T18:37:40.084407Z"
    },
    "papermill": {
     "duration": 7.3826,
     "end_time": "2021-09-03T19:22:42.585536",
     "exception": false,
     "start_time": "2021-09-03T19:22:35.202936",
     "status": "completed"
    },
    "tags": []
   },
   "outputs": [
    {
     "name": "stderr",
     "output_type": "stream",
     "text": [
      "/opt/conda/lib/python3.7/site-packages/xgboost/sklearn.py:1146: UserWarning: The use of label encoder in XGBClassifier is deprecated and will be removed in a future release. To remove this warning, do the following: 1) Pass option use_label_encoder=False when constructing XGBClassifier object; and 2) Encode your labels (y) as integers starting with 0, i.e. 0, 1, 2, ..., [num_class - 1].\n",
      "  warnings.warn(label_encoder_deprecation_msg, UserWarning)\n"
     ]
    },
    {
     "name": "stdout",
     "output_type": "stream",
     "text": [
      "[19:22:40] WARNING: ../src/learner.cc:1095: Starting in XGBoost 1.3.0, the default evaluation metric used with the objective 'binary:logistic' was changed from 'error' to 'logloss'. Explicitly set eval_metric if you'd like to restore the old behavior.\n"
     ]
    }
   ],
   "source": [
    "voting_clf_hard.fit(X_train, y_train)\n",
    "voting_clf_soft.fit(X_train, y_train)\n",
    "voting_clf_all.fit(X_train, y_train)\n",
    "voting_clf_xgb.fit(X_train, y_train)\n",
    "\n",
    "best_rf.fit(X_train, y_train)\n",
    "y_hat_vc_hard = voting_clf_hard.predict(X_test).astype(int)\n",
    "y_hat_rf = best_rf.predict(X_test).astype(int)\n",
    "y_hat_vc_soft =  voting_clf_soft.predict(X_test).astype(int)\n",
    "y_hat_vc_all = voting_clf_all.predict(X_test).astype(int)\n",
    "y_hat_vc_xgb = voting_clf_xgb.predict(X_test).astype(int)\n"
   ]
  },
  {
   "cell_type": "code",
   "execution_count": 72,
   "id": "b980705b",
   "metadata": {
    "execution": {
     "iopub.execute_input": "2021-09-03T19:22:42.828822Z",
     "iopub.status.busy": "2021-09-03T19:22:42.828168Z",
     "iopub.status.idle": "2021-09-03T19:22:42.831336Z",
     "shell.execute_reply": "2021-09-03T19:22:42.830886Z",
     "shell.execute_reply.started": "2021-09-03T18:37:47.741733Z"
    },
    "papermill": {
     "duration": 0.10033,
     "end_time": "2021-09-03T19:22:42.831454",
     "exception": false,
     "start_time": "2021-09-03T19:22:42.731124",
     "status": "completed"
    },
    "tags": []
   },
   "outputs": [],
   "source": [
    "#convert output to dataframe \n",
    "final_data = {'PassengerId': test.PassengerId, 'Survived': y_hat_rf}\n",
    "submission = pd.DataFrame(data=final_data)\n",
    "\n",
    "final_data_2 = {'PassengerId': test.PassengerId, 'Survived': y_hat_vc_hard}\n",
    "submission_2 = pd.DataFrame(data=final_data_2)\n",
    "\n",
    "final_data_3 = {'PassengerId': test.PassengerId, 'Survived': y_hat_vc_soft}\n",
    "submission_3 = pd.DataFrame(data=final_data_3)\n",
    "\n",
    "final_data_4 = {'PassengerId': test.PassengerId, 'Survived': y_hat_vc_all}\n",
    "submission_4 = pd.DataFrame(data=final_data_4)\n",
    "\n",
    "final_data_5 = {'PassengerId': test.PassengerId, 'Survived': y_hat_vc_xgb}\n",
    "submission_5 = pd.DataFrame(data=final_data_5)\n",
    "\n",
    "final_data_comp = {'PassengerId': test.PassengerId, 'Survived_vc_hard': y_hat_vc_hard, 'Survived_rf': y_hat_rf, 'Survived_vc_soft' : y_hat_vc_soft, 'Survived_vc_all' : y_hat_vc_all,  'Survived_vc_xgb' : y_hat_vc_xgb}\n",
    "comparison = pd.DataFrame(data=final_data_comp)"
   ]
  },
  {
   "cell_type": "code",
   "execution_count": 73,
   "id": "56f8a07e",
   "metadata": {
    "execution": {
     "iopub.execute_input": "2021-09-03T19:22:43.080285Z",
     "iopub.status.busy": "2021-09-03T19:22:43.079391Z",
     "iopub.status.idle": "2021-09-03T19:22:43.093554Z",
     "shell.execute_reply": "2021-09-03T19:22:43.094203Z",
     "shell.execute_reply.started": "2021-09-03T18:37:47.764885Z"
    },
    "papermill": {
     "duration": 0.17258,
     "end_time": "2021-09-03T19:22:43.094460",
     "exception": false,
     "start_time": "2021-09-03T19:22:42.921880",
     "status": "completed"
    },
    "tags": []
   },
   "outputs": [],
   "source": [
    "#prepare submission files \n",
    "submission.to_csv('submission_rf.csv', index =False)\n",
    "submission_2.to_csv('submission_vc_hard.csv',index=False)\n",
    "submission_3.to_csv('submission_vc_soft.csv', index=False)\n",
    "submission_4.to_csv('submission_vc_all.csv', index=False)\n",
    "submission_5.to_csv('submission_vc_xgb2.csv', index=False)"
   ]
  },
  {
   "cell_type": "code",
   "execution_count": 74,
   "id": "df0259fc",
   "metadata": {
    "execution": {
     "iopub.execute_input": "2021-09-03T19:22:43.412867Z",
     "iopub.status.busy": "2021-09-03T19:22:43.411957Z",
     "iopub.status.idle": "2021-09-03T19:22:43.415914Z",
     "shell.execute_reply": "2021-09-03T19:22:43.415270Z",
     "shell.execute_reply.started": "2021-09-03T18:37:47.792960Z"
    },
    "papermill": {
     "duration": 0.165552,
     "end_time": "2021-09-03T19:22:43.416097",
     "exception": false,
     "start_time": "2021-09-03T19:22:43.250545",
     "status": "completed"
    },
    "tags": []
   },
   "outputs": [],
   "source": [
    "final_data_6 = {'PassengerId': test.PassengerId, 'Survived': voting_clf_sub.astype(int)}\n",
    "submission_6 = pd.DataFrame(data=final_data_6)"
   ]
  },
  {
   "cell_type": "code",
   "execution_count": 75,
   "id": "63efe4c7",
   "metadata": {
    "execution": {
     "iopub.execute_input": "2021-09-03T19:22:43.651049Z",
     "iopub.status.busy": "2021-09-03T19:22:43.649435Z",
     "iopub.status.idle": "2021-09-03T19:22:43.653821Z",
     "shell.execute_reply": "2021-09-03T19:22:43.653406Z",
     "shell.execute_reply.started": "2021-09-03T18:37:47.807920Z"
    },
    "papermill": {
     "duration": 0.099526,
     "end_time": "2021-09-03T19:22:43.653936",
     "exception": false,
     "start_time": "2021-09-03T19:22:43.554410",
     "status": "completed"
    },
    "tags": []
   },
   "outputs": [],
   "source": [
    "submission_6.to_csv('submission_voting.csv', index=False)"
   ]
  },
  {
   "cell_type": "code",
   "execution_count": 76,
   "id": "2a6cdc99",
   "metadata": {
    "execution": {
     "iopub.execute_input": "2021-09-03T19:22:43.844629Z",
     "iopub.status.busy": "2021-09-03T19:22:43.843846Z",
     "iopub.status.idle": "2021-09-03T19:22:43.848910Z",
     "shell.execute_reply": "2021-09-03T19:22:43.848499Z",
     "shell.execute_reply.started": "2021-09-03T18:37:47.824697Z"
    },
    "papermill": {
     "duration": 0.104181,
     "end_time": "2021-09-03T19:22:43.849020",
     "exception": false,
     "start_time": "2021-09-03T19:22:43.744839",
     "status": "completed"
    },
    "tags": []
   },
   "outputs": [
    {
     "data": {
      "text/html": [
       "<div>\n",
       "<style scoped>\n",
       "    .dataframe tbody tr th:only-of-type {\n",
       "        vertical-align: middle;\n",
       "    }\n",
       "\n",
       "    .dataframe tbody tr th {\n",
       "        vertical-align: top;\n",
       "    }\n",
       "\n",
       "    .dataframe thead th {\n",
       "        text-align: right;\n",
       "    }\n",
       "</style>\n",
       "<table border=\"1\" class=\"dataframe\">\n",
       "  <thead>\n",
       "    <tr style=\"text-align: right;\">\n",
       "      <th></th>\n",
       "      <th>PassengerId</th>\n",
       "      <th>Survived</th>\n",
       "    </tr>\n",
       "  </thead>\n",
       "  <tbody>\n",
       "    <tr>\n",
       "      <th>0</th>\n",
       "      <td>892</td>\n",
       "      <td>0</td>\n",
       "    </tr>\n",
       "    <tr>\n",
       "      <th>1</th>\n",
       "      <td>893</td>\n",
       "      <td>1</td>\n",
       "    </tr>\n",
       "    <tr>\n",
       "      <th>2</th>\n",
       "      <td>894</td>\n",
       "      <td>0</td>\n",
       "    </tr>\n",
       "    <tr>\n",
       "      <th>3</th>\n",
       "      <td>895</td>\n",
       "      <td>0</td>\n",
       "    </tr>\n",
       "    <tr>\n",
       "      <th>4</th>\n",
       "      <td>896</td>\n",
       "      <td>0</td>\n",
       "    </tr>\n",
       "    <tr>\n",
       "      <th>...</th>\n",
       "      <td>...</td>\n",
       "      <td>...</td>\n",
       "    </tr>\n",
       "    <tr>\n",
       "      <th>413</th>\n",
       "      <td>1305</td>\n",
       "      <td>0</td>\n",
       "    </tr>\n",
       "    <tr>\n",
       "      <th>414</th>\n",
       "      <td>1306</td>\n",
       "      <td>1</td>\n",
       "    </tr>\n",
       "    <tr>\n",
       "      <th>415</th>\n",
       "      <td>1307</td>\n",
       "      <td>0</td>\n",
       "    </tr>\n",
       "    <tr>\n",
       "      <th>416</th>\n",
       "      <td>1308</td>\n",
       "      <td>0</td>\n",
       "    </tr>\n",
       "    <tr>\n",
       "      <th>417</th>\n",
       "      <td>1309</td>\n",
       "      <td>0</td>\n",
       "    </tr>\n",
       "  </tbody>\n",
       "</table>\n",
       "<p>418 rows × 2 columns</p>\n",
       "</div>"
      ],
      "text/plain": [
       "     PassengerId  Survived\n",
       "0            892         0\n",
       "1            893         1\n",
       "2            894         0\n",
       "3            895         0\n",
       "4            896         0\n",
       "..           ...       ...\n",
       "413         1305         0\n",
       "414         1306         1\n",
       "415         1307         0\n",
       "416         1308         0\n",
       "417         1309         0\n",
       "\n",
       "[418 rows x 2 columns]"
      ]
     },
     "execution_count": 76,
     "metadata": {},
     "output_type": "execute_result"
    }
   ],
   "source": [
    "submission_6"
   ]
  },
  {
   "cell_type": "code",
   "execution_count": null,
   "id": "8db9073e",
   "metadata": {
    "papermill": {
     "duration": 0.091683,
     "end_time": "2021-09-03T19:22:44.032191",
     "exception": false,
     "start_time": "2021-09-03T19:22:43.940508",
     "status": "completed"
    },
    "tags": []
   },
   "outputs": [],
   "source": []
  }
 ],
 "metadata": {
  "kernelspec": {
   "display_name": "Python 3",
   "language": "python",
   "name": "python3"
  },
  "language_info": {
   "codemirror_mode": {
    "name": "ipython",
    "version": 3
   },
   "file_extension": ".py",
   "mimetype": "text/x-python",
   "name": "python",
   "nbconvert_exporter": "python",
   "pygments_lexer": "ipython3",
   "version": "3.7.10"
  },
  "papermill": {
   "default_parameters": {},
   "duration": 2113.287775,
   "end_time": "2021-09-03T19:22:45.863353",
   "environment_variables": {},
   "exception": null,
   "input_path": "__notebook__.ipynb",
   "output_path": "__notebook__.ipynb",
   "parameters": {},
   "start_time": "2021-09-03T18:47:32.575578",
   "version": "2.3.3"
  }
 },
 "nbformat": 4,
 "nbformat_minor": 5
}
